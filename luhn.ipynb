{
 "cells": [
  {
   "attachments": {},
   "cell_type": "markdown",
   "id": "484ad332-4f1d-4483-9a8c-3d0d71e11910",
   "metadata": {},
   "source": [
    "# Luhn Abstracts\n",
    "\n",
    "Luhn, Hans Peter. \"The Automatic Creation of Literature Abstracts.\" *IBM Journal of Research and Revelopment 2.2* (1958): 159-165.\n",
    "\n",
    "DOI: [10.1147/rd.22.0159](https://ieeexplore.ieee.org/document/5392672)\n",
    "\n",
    "## Initial Setup"
   ]
  },
  {
   "cell_type": "code",
   "execution_count": 1,
   "id": "c811ce98-16a1-4148-ae72-c3ce057e25d6",
   "metadata": {},
   "outputs": [],
   "source": [
    "import luhn_abstract as la"
   ]
  },
  {
   "cell_type": "markdown",
   "id": "a9f77ddc-515c-46d0-bed2-62a44a999685",
   "metadata": {},
   "source": [
    "## Exhibit 2\n",
    "\n",
    "This is the source text that was utilized as Exhibit 2 in the article.\n",
    "\n",
    "*Source: The New York Times, September8, 1957, page E11*  \n",
    "*Title: Chemistry Is Employed in a Search for New Methods to Conquer Mental Illness*  \n",
    "*Author: Robert K. Plumb*"
   ]
  },
  {
   "cell_type": "code",
   "execution_count": 2,
   "id": "a3687020-7c1e-4de0-bfe5-cb4c0355575a",
   "metadata": {},
   "outputs": [],
   "source": [
    "val_text = '''By coincidence this weekend in New York City marks the end of the annual meeting of the American Psychological Association and the begining of \n",
    "the annual meeting of the American Chemical Society. Psychologists and chemists have never had so much in common as they now have in new studies of the chemical \n",
    "basis for human behavior. Exciting new finds in this field were also discussed last week in Iowa City, Iowa, at the annual meeting of the American \n",
    "Physiological Society and at Zurich, Switzerland, at the Second International Congress for Psychiatry. Two major recent developments have called the attention \n",
    "of chemists, physiologists, physicists and other scientists to mental diseases: It has been found that extremely minute quantities of chemicals can induce \n",
    "hallucinations and bizarre psychic disturbances in normal people, and mood-altering drugs (tranquilizers, for instance) have made long-institutionalized people \n",
    "amenable to therapy. Money to finance resreach on the physical factors in mental illness is being made available. Progress has \n",
    "been achieved toward the understanding of the chemistry of the brain. New goals are in sight. At the psychiatrists meeting in Zurich last week, four New York \n",
    "City physicians urged their colleagues to broaden their concept of \"mental disease,\" and to probe more deeply into the chemistry and metabolism of the human \n",
    "body for answers to mental disorders and their prevention. Dr. Felix Marti-Ibanez and three brothers, Dr. Mortimer D. Sackler, \n",
    "Dr. Raymond R. Sackler and Dr. Arthur M. Sackler cited evidence that the blood chemistry of victims of schizophrenia is different from that of normal people. \n",
    "Perhaps multiple biological factors are responsible for this chemical change, they suggested. Mental disease is a \"developmental process\" and long duration of \n",
    "a disorder may result in \"permanent alteration of anatomy and physiology,\" they said. They urged that trials of new drugs which affect the brain should be \n",
    "concentrated on complex studies of the mechanism of action of the drugs. The variety of substances capable of producing profound mental effects is a new \n",
    "armory of weapons for use in investigating biological mechanisms underlying mental disease, they said. The sources of behavioral disturbance are many and they \n",
    "may come from external as well as internal forces, the four reported. This concept has already proven practical, for instances, when it enabled psychiatrists \n",
    "to predict that the administration of ACTH and cortisone could produce psychosis. \"It led some years ago to the development of a blood test which was 80 percent \n",
    "accurate in the identification of schizophrenic patients,\" they said. \"It permitted us on physiologic grounds to deny that the psychoneuroses and the \n",
    "psychoses were lesser and greater degrees of the same disease process, and, in fact, to affirm that they represented opposite and even mutually exclusive \n",
    "directions of physiologic disturbances,\" they said. Chemicals now available should he used not only to bring relief to the mentally sick but also to uncover \n",
    "the biological mechanisms of the disease processes themselves. \"Only then will the metabolic era mature and bring to fruition man's long hoped for salvation \n",
    "from the ravages of mental disease,\" they reported.\n",
    "At the psychologist's meeting here, a technique for tracing electrical activity in specific portions of the animal brain was described by researchers from the \n",
    "University of California at Los Angeles. They reported that deep brain implants in cat brains were used to record electrical discharges created as the animals \n",
    "respond to stimulations to which they had been conditioned. In this way the California group reported, it is possible to track the sequence in which the brain \n",
    "brings its various parts into play in learning. Specific areas of memory in the brain may be located. Furthermore, the electrical pathways so traced out can \n",
    "be blocked temporarily by the use of chemicals. This poses new possibilities for studying brain chemistry changes in health and sickness and their alleviation, \n",
    "the California researchers emphasized. The new studies of brain chemistry have provided practical therapeutic results and tremendous encouragement to those who \n",
    "must care for mental patients. One evidence that knowledge in the interdisciplinary field is accumulating fast came last week in an announcement from Washington. \n",
    "This was the establishment by the National Institute of Mental Health of a clearing house of information on psychopharmacology. Literature in the field will be \n",
    "classified and coded so that staff members can answer a wide variety bf technical and scientific questions. People working in the field are invited to send three \n",
    "copies of papers or other material — even informal letters describing work they may have in progress to the Technical Information Unit of the center In \n",
    "Silver Spring, Md.'''\n",
    "val_text = val_text.replace('\\n','')"
   ]
  },
  {
   "cell_type": "code",
   "execution_count": 3,
   "id": "46d42fcb-4f5d-49f3-8738-31f7a9c990da",
   "metadata": {},
   "outputs": [
    {
     "name": "stdout",
     "output_type": "stream",
     "text": [
      "Quantile Significance Lower = 2\n",
      "Quantile Significance Upper = 42\n",
      "At the psychiatrists meeting in Zurich last week, four New York City physicians urged their colleagues to broaden their concept of \"mental disease,\" and to probe more deeply into the chemistry and metabolism of the human body for answers to mental disorders and their prevention. \u001b[31m[26.2727]\u001b[0m \"Only then will the metabolic era mature and bring to fruition man's long hoped for salvation from the ravages of mental disease,\" they reported.At the psychologist's meeting here, a technique for tracing electrical activity in specific portions of the animal brain was described by researchers from the University of California at Los Angeles. \u001b[31m[24.0000]\u001b[0m Two major recent developments have called the attention of chemists, physiologists, physicists and other scientists to mental diseases: It has been found that extremely minute quantities of chemicals can induce hallucinations and bizarre psychic disturbances in normal people, and mood-altering drugs (tranquilizers, for instance) have made long-institutionalized people amenable to therapy. \u001b[31m[19.6122]\u001b[0m Exciting new finds in this field were also discussed last week in Iowa City, Iowa, at the annual meeting of the American Physiological Society and at Zurich, Switzerland, at the Second International Congress for Psychiatry. \u001b[31m[18.9394]\u001b[0m\n"
     ]
    }
   ],
   "source": [
    "luhn_rtn = la.luhn_abstract.run_auto_summarization(val_text=val_text,is_print=True,func_stem_selected=la.luhn_abstract.tokenize_stem_nltk)"
   ]
  },
  {
   "cell_type": "code",
   "execution_count": 4,
   "id": "815946f8-688a-4631-aea8-37a589bcc348",
   "metadata": {},
   "outputs": [
    {
     "name": "stdout",
     "output_type": "stream",
     "text": [
      "Quantile Significance Lower = 1\n",
      "Quantile Significance Upper = 2\n",
      "By coincidence this weekend in New York City marks the end of the annual meeting of the American Psychological Association and the begining of the annual meeting of the American Chemical Society. \u001b[31m[3.0000]\u001b[0m Psychologists and chemists have never had so much in common as they now have in new studies of the chemical basis for human behavior. \u001b[31m[3.0000]\u001b[0m At the psychiatrists meeting in Zurich last week, four New York City physicians urged their colleagues to broaden their concept of \"mental disease,\" and to probe more deeply into the chemistry and metabolism of the human body for answers to mental disorders and their prevention. \u001b[31m[2.0000]\u001b[0m \"Only then will the metabolic era mature and bring to fruition man's long hoped for salvation from the ravages of mental disease,\" they reported.At the psychologist's meeting here, a technique for tracing electrical activity in specific portions of the animal brain was described by researchers from the University of California at Los Angeles. \u001b[31m[2.0000]\u001b[0m\n"
     ]
    }
   ],
   "source": [
    "luhn_rtn = la.luhn_abstract.run_auto_summarization(val_text=val_text,is_print=True,val_n_gram=2,func_stem_selected=la.luhn_abstract.tokenize_stem_nltk)"
   ]
  },
  {
   "cell_type": "markdown",
   "id": "fd6a8a80-2553-469e-9441-7d70f362c0f3",
   "metadata": {},
   "source": [
    "## Effort #1: Explore the Parameter Space"
   ]
  },
  {
   "cell_type": "code",
   "execution_count": 5,
   "id": "5f91eda9-04ac-4f3f-a1ee-56917320fc51",
   "metadata": {},
   "outputs": [],
   "source": [
    "import pandas as pd\n",
    "import numpy as np\n",
    "from tqdm import tqdm"
   ]
  },
  {
   "cell_type": "code",
   "execution_count": 6,
   "id": "1b7cdd79-8465-4008-b124-4b57b4aa312a",
   "metadata": {},
   "outputs": [],
   "source": [
    "vec_quant_lower = np.arange(start=1,stop=31)#1,31\n",
    "vec_quant_upper = np.arange(start=10,stop=55)#10,56 -> 30,56\n",
    "vec_num_apart = np.arange(start=4,stop=8)\n",
    "vec_article_sent_id = [3.,23.,24.]\n",
    "vec_article_send_score = [4.0,5.4,5.4]"
   ]
  },
  {
   "cell_type": "code",
   "execution_count": 7,
   "id": "eaab3108-da64-48de-9908-0015f9c7dde7",
   "metadata": {},
   "outputs": [
    {
     "name": "stderr",
     "output_type": "stream",
     "text": [
      "100%|████████████████████████████████████████████████████████████████████████████████| 30/30 [1:21:20<00:00, 162.69s/it]"
     ]
    },
    {
     "name": "stdout",
     "output_type": "stream",
     "text": [
      "CPU times: user 1h 20min 49s, sys: 27.9 s, total: 1h 21min 17s\n",
      "Wall time: 1h 21min 20s\n"
     ]
    },
    {
     "name": "stderr",
     "output_type": "stream",
     "text": [
      "\n"
     ]
    }
   ],
   "source": [
    "%%time\n",
    "val_num_sents = len(vec_article_sent_id)\n",
    "#Setup storage for iteration results...\n",
    "val_cnt = 0\n",
    "vec_iters = []\n",
    "#Create iterations over test conditions...\n",
    "for val_lower in tqdm(vec_quant_lower):\n",
    "    for is_sw_remove in [True,False]:\n",
    "        for is_sw_zero in [True,False]:\n",
    "            for func_stem_selected in [None,la.luhn_abstract.tokenize_stem_nltk,la.luhn_abstract.tokenize_stem_luhn]:\n",
    "                for vec_ignore_words in [[],la.luhn_abstract.vec_luhn_sw]:\n",
    "                    for val_num_apart in vec_num_apart:\n",
    "                        for val_upper in vec_quant_upper:\n",
    "                            if(val_lower < val_upper):\n",
    "                                luhn_rtn = la.luhn_abstract.run_auto_summarization(val_text=val_text,\n",
    "                                                                                   val_lower_int=val_lower,\n",
    "                                                                                   val_upper_int=val_upper,\n",
    "                                                                                   val_spacing=val_num_apart,\n",
    "                                                                                   val_n_gram=-1,\n",
    "                                                                                   val_num_sentences=val_num_sents,\n",
    "                                                                                   is_sw_remove=is_sw_remove,\n",
    "                                                                                   is_sw_zero=is_sw_zero,\n",
    "                                                                                   is_use_luhn_tf=True,\n",
    "                                                                                   vec_sw_luhn=vec_ignore_words,\n",
    "                                                                                   vec_sw_add=[],\n",
    "                                                                                   func_stem_selected=func_stem_selected,\n",
    "                                                                                   func_summary_selected=None,\n",
    "                                                                                   is_print=False)\n",
    "                                if(luhn_rtn[1].shape[0]>0):\n",
    "                                    vec_tmp_ids = luhn_rtn[1]['id_sent'].iloc[0:val_num_sents].values.tolist()\n",
    "                                    vec_tmp_scores = luhn_rtn[1]['score'].iloc[0:val_num_sents].values.tolist()\n",
    "                                    vec = [vec_tmp_ids,vec_tmp_scores,\n",
    "                                           len(set(vec_tmp_ids)&set(vec_article_sent_id)),\n",
    "                                           val_lower,val_upper,val_num_apart,is_sw_remove,is_sw_zero,\n",
    "                                           not []==vec_ignore_words,\n",
    "                                           func_stem_selected.__name__ if func_stem_selected else 'None']\n",
    "                                    vec_iters.append(vec)\n",
    "                                    del(vec_tmp_ids)\n",
    "                                    del(vec_tmp_scores)\n",
    "                            val_cnt += 1"
   ]
  },
  {
   "cell_type": "code",
   "execution_count": 8,
   "id": "d6485ea1-0a8f-423a-bf88-4326f050b055",
   "metadata": {},
   "outputs": [
    {
     "name": "stdout",
     "output_type": "stream",
     "text": [
      "This resulted in 129,600 possible parameters to evaluate; however, based on the restrictions for $C$ and $D$, only 23,276 summaries were generated\n"
     ]
    },
    {
     "data": {
      "text/html": [
       "<div>\n",
       "<style scoped>\n",
       "    .dataframe tbody tr th:only-of-type {\n",
       "        vertical-align: middle;\n",
       "    }\n",
       "\n",
       "    .dataframe tbody tr th {\n",
       "        vertical-align: top;\n",
       "    }\n",
       "\n",
       "    .dataframe thead th {\n",
       "        text-align: right;\n",
       "    }\n",
       "</style>\n",
       "<table border=\"1\" class=\"dataframe\">\n",
       "  <thead>\n",
       "    <tr style=\"text-align: right;\">\n",
       "      <th></th>\n",
       "      <th>vec_sent_ids</th>\n",
       "      <th>vec_scores</th>\n",
       "      <th>cnt_common</th>\n",
       "      <th>val_bound_lower</th>\n",
       "      <th>val_bound_upper</th>\n",
       "      <th>val_num_apart</th>\n",
       "      <th>is_sw_remove</th>\n",
       "      <th>is_sw_zero</th>\n",
       "      <th>is_luhn_sw</th>\n",
       "      <th>stem_func</th>\n",
       "      <th>sum</th>\n",
       "    </tr>\n",
       "  </thead>\n",
       "  <tbody>\n",
       "    <tr>\n",
       "      <th>84</th>\n",
       "      <td>[28.0, 3.0, 24.0]</td>\n",
       "      <td>[14.297297297297296, 11.91891891891892, 10.888...</td>\n",
       "      <td>2</td>\n",
       "      <td>1</td>\n",
       "      <td>13</td>\n",
       "      <td>5</td>\n",
       "      <td>False</td>\n",
       "      <td>True</td>\n",
       "      <td>False</td>\n",
       "      <td>None</td>\n",
       "      <td>37.105105</td>\n",
       "    </tr>\n",
       "    <tr>\n",
       "      <th>85</th>\n",
       "      <td>[28.0, 3.0, 24.0]</td>\n",
       "      <td>[14.297297297297296, 11.91891891891892, 10.888...</td>\n",
       "      <td>2</td>\n",
       "      <td>1</td>\n",
       "      <td>14</td>\n",
       "      <td>5</td>\n",
       "      <td>False</td>\n",
       "      <td>True</td>\n",
       "      <td>False</td>\n",
       "      <td>None</td>\n",
       "      <td>37.105105</td>\n",
       "    </tr>\n",
       "    <tr>\n",
       "      <th>86</th>\n",
       "      <td>[28.0, 3.0, 24.0]</td>\n",
       "      <td>[14.297297297297296, 11.91891891891892, 10.888...</td>\n",
       "      <td>2</td>\n",
       "      <td>1</td>\n",
       "      <td>15</td>\n",
       "      <td>5</td>\n",
       "      <td>False</td>\n",
       "      <td>True</td>\n",
       "      <td>False</td>\n",
       "      <td>None</td>\n",
       "      <td>37.105105</td>\n",
       "    </tr>\n",
       "    <tr>\n",
       "      <th>87</th>\n",
       "      <td>[28.0, 3.0, 24.0]</td>\n",
       "      <td>[14.297297297297296, 11.91891891891892, 10.888...</td>\n",
       "      <td>2</td>\n",
       "      <td>1</td>\n",
       "      <td>16</td>\n",
       "      <td>5</td>\n",
       "      <td>False</td>\n",
       "      <td>True</td>\n",
       "      <td>False</td>\n",
       "      <td>None</td>\n",
       "      <td>37.105105</td>\n",
       "    </tr>\n",
       "    <tr>\n",
       "      <th>88</th>\n",
       "      <td>[28.0, 3.0, 24.0]</td>\n",
       "      <td>[14.297297297297296, 11.91891891891892, 10.888...</td>\n",
       "      <td>2</td>\n",
       "      <td>1</td>\n",
       "      <td>17</td>\n",
       "      <td>5</td>\n",
       "      <td>False</td>\n",
       "      <td>True</td>\n",
       "      <td>False</td>\n",
       "      <td>None</td>\n",
       "      <td>37.105105</td>\n",
       "    </tr>\n",
       "  </tbody>\n",
       "</table>\n",
       "</div>"
      ],
      "text/plain": [
       "         vec_sent_ids                                         vec_scores  \\\n",
       "84  [28.0, 3.0, 24.0]  [14.297297297297296, 11.91891891891892, 10.888...   \n",
       "85  [28.0, 3.0, 24.0]  [14.297297297297296, 11.91891891891892, 10.888...   \n",
       "86  [28.0, 3.0, 24.0]  [14.297297297297296, 11.91891891891892, 10.888...   \n",
       "87  [28.0, 3.0, 24.0]  [14.297297297297296, 11.91891891891892, 10.888...   \n",
       "88  [28.0, 3.0, 24.0]  [14.297297297297296, 11.91891891891892, 10.888...   \n",
       "\n",
       "    cnt_common  val_bound_lower  val_bound_upper  val_num_apart  is_sw_remove  \\\n",
       "84           2                1               13              5         False   \n",
       "85           2                1               14              5         False   \n",
       "86           2                1               15              5         False   \n",
       "87           2                1               16              5         False   \n",
       "88           2                1               17              5         False   \n",
       "\n",
       "    is_sw_zero  is_luhn_sw stem_func        sum  \n",
       "84        True       False      None  37.105105  \n",
       "85        True       False      None  37.105105  \n",
       "86        True       False      None  37.105105  \n",
       "87        True       False      None  37.105105  \n",
       "88        True       False      None  37.105105  "
      ]
     },
     "execution_count": 8,
     "metadata": {},
     "output_type": "execute_result"
    }
   ],
   "source": [
    "df_param_search = pd.DataFrame(vec_iters,columns=['vec_sent_ids','vec_scores','cnt_common','val_bound_lower','val_bound_upper',\n",
    "                                                  'val_num_apart','is_sw_remove','is_sw_zero','is_luhn_sw','stem_func'])\n",
    "df_param_search['sum'] = [sum(x) for x in df_param_search['vec_scores']]\n",
    "df_param_search.sort_values(by=['cnt_common','sum'],ascending=[False,False],inplace=True)\n",
    "print(f'''This resulted in {val_cnt:,} possible parameters to evaluate; however, based on the restrictions for $C$ and $D$, only {df_param_search.shape[0]:,} summaries were generated''')\n",
    "df_param_search.head()"
   ]
  },
  {
   "cell_type": "markdown",
   "id": "f3273e9b-50eb-41c8-928b-fabcb221c21c",
   "metadata": {},
   "source": [
    "### Evaluate Parameters\n",
    "\n",
    "Q: What does the distribution for the number of matching sentence IDs look like to the baseline sentences IDs from the article (i.e., $[3,23,24]$)?  \n",
    "A: &darr;"
   ]
  },
  {
   "cell_type": "code",
   "execution_count": 9,
   "id": "057f4390-69d4-4d40-a158-f858eb4b2214",
   "metadata": {},
   "outputs": [
    {
     "data": {
      "text/plain": [
       "cnt_common\n",
       "1    12538\n",
       "0     9185\n",
       "2     1553\n",
       "Name: count, dtype: int64"
      ]
     },
     "execution_count": 9,
     "metadata": {},
     "output_type": "execute_result"
    }
   ],
   "source": [
    "df_param_search['cnt_common'].value_counts()"
   ]
  },
  {
   "cell_type": "markdown",
   "id": "b455bbf2-c239-459e-90b2-74984a9001a9",
   "metadata": {},
   "source": [
    "Q: For results with 2 matching sentence IDs, how frequently were stopwords removed from the corpus?  \n",
    "A: &darr;"
   ]
  },
  {
   "cell_type": "code",
   "execution_count": 10,
   "id": "1a5cbf2a-f520-4237-963c-d4dc4261f795",
   "metadata": {},
   "outputs": [
    {
     "data": {
      "text/plain": [
       "is_sw_remove\n",
       "False    1495\n",
       "True       58\n",
       "Name: count, dtype: int64"
      ]
     },
     "execution_count": 10,
     "metadata": {},
     "output_type": "execute_result"
    }
   ],
   "source": [
    "df_param_search.loc[(df_param_search['cnt_common']==2)]['is_sw_remove'].value_counts()"
   ]
  },
  {
   "cell_type": "markdown",
   "id": "cd50aeeb-9bd3-477a-b579-d5a0ce0cda5e",
   "metadata": {},
   "source": [
    "Q: For results with 2 matching sentence IDs, how frequently were stopword scores zeroed in the corpus?  \n",
    "A: &darr;"
   ]
  },
  {
   "cell_type": "code",
   "execution_count": 11,
   "id": "3bc66780-3ac9-42c0-8877-0c763256e903",
   "metadata": {},
   "outputs": [
    {
     "data": {
      "text/plain": [
       "is_sw_zero\n",
       "False    787\n",
       "True     766\n",
       "Name: count, dtype: int64"
      ]
     },
     "execution_count": 11,
     "metadata": {},
     "output_type": "execute_result"
    }
   ],
   "source": [
    "df_param_search.loc[(df_param_search['cnt_common']==2)]['is_sw_zero'].value_counts()"
   ]
  },
  {
   "cell_type": "markdown",
   "id": "27ce4402-65a1-455d-a46c-9d4899d6d42e",
   "metadata": {},
   "source": [
    "Q: For results with 2 matching sentence IDs, how frequently were the Luhn stopwords (prepositions, pronouns, articles) removed from the corpus?  \n",
    "A: &darr;"
   ]
  },
  {
   "cell_type": "code",
   "execution_count": 12,
   "id": "29821acf-ddb3-4945-998a-ad12b7df67fd",
   "metadata": {},
   "outputs": [
    {
     "data": {
      "text/plain": [
       "is_luhn_sw\n",
       "False    1473\n",
       "True       80\n",
       "Name: count, dtype: int64"
      ]
     },
     "execution_count": 12,
     "metadata": {},
     "output_type": "execute_result"
    }
   ],
   "source": [
    "df_param_search.loc[(df_param_search['cnt_common']==2)]['is_luhn_sw'].value_counts()"
   ]
  },
  {
   "cell_type": "markdown",
   "id": "259a3c9e-4bce-4959-b5ff-d9bae4771bf3",
   "metadata": {},
   "source": [
    "Q: For results with 2 matching sentence IDs, what is pooled effect for NLTK stopword removal, Luhn stopword removal, and consider NLTK stopword zeroing?  \n",
    "A: &darr;"
   ]
  },
  {
   "cell_type": "code",
   "execution_count": 13,
   "id": "61eac42c-9cb0-4bd7-8415-399cc76abeba",
   "metadata": {},
   "outputs": [
    {
     "data": {
      "text/plain": [
       "is_sw_any\n",
       "False    1453\n",
       "True      100\n",
       "Name: count, dtype: int64"
      ]
     },
     "execution_count": 13,
     "metadata": {},
     "output_type": "execute_result"
    }
   ],
   "source": [
    "df_param_search['is_sw_any'] = df_param_search['is_sw_remove']+df_param_search['is_luhn_sw']\n",
    "df_param_search.loc[(df_param_search['cnt_common']==2)]['is_sw_any'].value_counts()"
   ]
  },
  {
   "cell_type": "code",
   "execution_count": 14,
   "id": "9bfc2e20-c8fc-4a87-a9f2-9e42ee254a93",
   "metadata": {},
   "outputs": [
    {
     "data": {
      "text/plain": [
       "is_sw_any\n",
       "True     826\n",
       "False    727\n",
       "Name: count, dtype: int64"
      ]
     },
     "execution_count": 14,
     "metadata": {},
     "output_type": "execute_result"
    }
   ],
   "source": [
    "df_param_search['is_sw_any'] = df_param_search['is_sw_remove']+df_param_search['is_luhn_sw']+df_param_search['is_sw_zero']\n",
    "df_param_search.loc[(df_param_search['cnt_common']==2)]['is_sw_any'].value_counts()"
   ]
  },
  {
   "cell_type": "markdown",
   "id": "35cdae53-8a5d-4703-aabf-8939298d5b30",
   "metadata": {},
   "source": [
    "Q: For results with 2 matching sentence IDs, how frequently were the different stemming functions utilized?  \n",
    "A: &darr;"
   ]
  },
  {
   "cell_type": "code",
   "execution_count": 15,
   "id": "b21f2c0a-1044-4dc3-81e0-79b88ad08b54",
   "metadata": {},
   "outputs": [
    {
     "data": {
      "text/plain": [
       "stem_func\n",
       "tokenize_stem_nltk    974\n",
       "tokenize_stem_luhn    314\n",
       "None                  265\n",
       "Name: count, dtype: int64"
      ]
     },
     "execution_count": 15,
     "metadata": {},
     "output_type": "execute_result"
    }
   ],
   "source": [
    "df_param_search.loc[(df_param_search['cnt_common']==2)]['stem_func'].value_counts()"
   ]
  },
  {
   "cell_type": "markdown",
   "id": "bf089796-f661-4277-89be-32077e38880c",
   "metadata": {},
   "source": [
    "Q: For results with 2 matching sentence IDs, what is the distribution for the length of the span (i.e., $n$)?  \n",
    "A: &darr;"
   ]
  },
  {
   "cell_type": "code",
   "execution_count": 16,
   "id": "ba0fb5a1-6832-4d97-a745-61eba29df6ee",
   "metadata": {},
   "outputs": [
    {
     "data": {
      "text/plain": [
       "val_num_apart\n",
       "5    499\n",
       "7    474\n",
       "6    469\n",
       "4    111\n",
       "Name: count, dtype: int64"
      ]
     },
     "execution_count": 16,
     "metadata": {},
     "output_type": "execute_result"
    }
   ],
   "source": [
    "df_param_search.loc[(df_param_search['cnt_common']==2)]['val_num_apart'].value_counts()"
   ]
  },
  {
   "cell_type": "markdown",
   "id": "3c57df49-fe2f-411f-bcda-00722f1be919",
   "metadata": {},
   "source": [
    "Q: For results with 2 matching sentence IDs and $n==5$, how frequently were stopword scores zeroed in the corpus?  \n",
    "A: &darr;"
   ]
  },
  {
   "cell_type": "code",
   "execution_count": 17,
   "id": "c58a283a-52ca-492f-aae9-953045e1bc58",
   "metadata": {},
   "outputs": [
    {
     "data": {
      "text/plain": [
       "is_sw_zero\n",
       "False    250\n",
       "True     249\n",
       "Name: count, dtype: int64"
      ]
     },
     "execution_count": 17,
     "metadata": {},
     "output_type": "execute_result"
    }
   ],
   "source": [
    "df_param_search.loc[(df_param_search['cnt_common']==2) & (df_param_search['val_num_apart']==5)]['is_sw_zero'].value_counts()"
   ]
  },
  {
   "cell_type": "markdown",
   "id": "0e36d88f-38bf-4368-833b-cdf310d1b096",
   "metadata": {},
   "source": [
    "Q: What are the minimum and maximum values for $C$ and $D$ for the different results by the number of matching sentence IDs to the baseline?  This question provides insight into the \"resolving power\" of the words and how $C$ and $D$ can behave in a similar manner to stopwords.  \n",
    "A: &darr;"
   ]
  },
  {
   "cell_type": "code",
   "execution_count": 18,
   "id": "69832003-3630-4e70-a6ca-fca564e03efa",
   "metadata": {},
   "outputs": [
    {
     "data": {
      "text/html": [
       "<div>\n",
       "<style scoped>\n",
       "    .dataframe tbody tr th:only-of-type {\n",
       "        vertical-align: middle;\n",
       "    }\n",
       "\n",
       "    .dataframe tbody tr th {\n",
       "        vertical-align: top;\n",
       "    }\n",
       "\n",
       "    .dataframe thead th {\n",
       "        text-align: right;\n",
       "    }\n",
       "</style>\n",
       "<table border=\"1\" class=\"dataframe\">\n",
       "  <thead>\n",
       "    <tr style=\"text-align: right;\">\n",
       "      <th></th>\n",
       "      <th>val_bound_lower</th>\n",
       "      <th>val_bound_upper</th>\n",
       "    </tr>\n",
       "    <tr>\n",
       "      <th>cnt_common</th>\n",
       "      <th></th>\n",
       "      <th></th>\n",
       "    </tr>\n",
       "  </thead>\n",
       "  <tbody>\n",
       "    <tr>\n",
       "      <th>0</th>\n",
       "      <td>1</td>\n",
       "      <td>54</td>\n",
       "    </tr>\n",
       "    <tr>\n",
       "      <th>1</th>\n",
       "      <td>1</td>\n",
       "      <td>54</td>\n",
       "    </tr>\n",
       "    <tr>\n",
       "      <th>2</th>\n",
       "      <td>1</td>\n",
       "      <td>41</td>\n",
       "    </tr>\n",
       "  </tbody>\n",
       "</table>\n",
       "</div>"
      ],
      "text/plain": [
       "            val_bound_lower  val_bound_upper\n",
       "cnt_common                                  \n",
       "0                         1               54\n",
       "1                         1               54\n",
       "2                         1               41"
      ]
     },
     "execution_count": 18,
     "metadata": {},
     "output_type": "execute_result"
    }
   ],
   "source": [
    "df_param_search.pivot_table(index='cnt_common',values=['val_bound_lower','val_bound_upper'],aggfunc={'val_bound_lower':pd.Series.min,\n",
    "                                                                                                     'val_bound_upper':pd.Series.max})"
   ]
  },
  {
   "cell_type": "markdown",
   "id": "6f6d8ea9-56c8-46a5-b10b-d56fe7e2521b",
   "metadata": {},
   "source": [
    "Q: For results with 2 matching sentence IDs, what sentence IDs were identified?  To reduce rearrangements of the same IDs, the vector of IDs is first sorted for each result and then converted to a string value.  \n",
    "A: &darr;"
   ]
  },
  {
   "cell_type": "code",
   "execution_count": 19,
   "id": "08a8e6aa-4454-48fc-b0be-ceb0358ac10a",
   "metadata": {},
   "outputs": [
    {
     "data": {
      "text/plain": [
       "vec_sent_ids\n",
       "[0.0, 3.0, 23.0]      768\n",
       "[3.0, 16.0, 23.0]     400\n",
       "[18.0, 23.0, 24.0]    107\n",
       "[1.0, 23.0, 24.0]      48\n",
       "[0.0, 23.0, 24.0]      32\n",
       "[19.0, 23.0, 24.0]     32\n",
       "[16.0, 23.0, 24.0]     32\n",
       "[2.0, 3.0, 23.0]       17\n",
       "[3.0, 24.0, 28.0]      14\n",
       "[3.0, 10.0, 24.0]      13\n",
       "[3.0, 7.0, 24.0]       12\n",
       "[5.0, 23.0, 24.0]      12\n",
       "[3.0, 18.0, 24.0]      12\n",
       "[7.0, 23.0, 24.0]      10\n",
       "[3.0, 5.0, 24.0]        9\n",
       "[3.0, 18.0, 23.0]       8\n",
       "[12.0, 23.0, 24.0]      6\n",
       "[3.0, 4.0, 24.0]        6\n",
       "[11.0, 23.0, 24.0]      4\n",
       "[3.0, 10.0, 23.0]       4\n",
       "[10.0, 23.0, 24.0]      4\n",
       "[4.0, 23.0, 24.0]       2\n",
       "[13.0, 23.0, 24.0]      1\n",
       "Name: count, dtype: int64"
      ]
     },
     "execution_count": 19,
     "metadata": {},
     "output_type": "execute_result"
    }
   ],
   "source": [
    "_ = [x.sort() for x in df_param_search['vec_sent_ids']]\n",
    "df_param_search['str_sent_id'] = [','.join([f'{j:n}' for j in x]) for x in df_param_search['vec_sent_ids']]\n",
    "df_param_search.loc[(df_param_search['cnt_common']==2)]['vec_sent_ids'].value_counts()"
   ]
  },
  {
   "cell_type": "markdown",
   "id": "d5084ccd-48a4-471a-b111-57aa1693f01a",
   "metadata": {},
   "source": [
    "Q: For sentence ID vectors with 2 matching sentence IDs where the Luhn stopwords were removed, the NLTK stopwords were not removed, and $n==7$, what were the ranges for $C$ and $D$?  This starts to shed light on some of the nuances for identifying all three sentences from the paper with the parameters that were identified as best approximations.  \n",
    "A: &darr;"
   ]
  },
  {
   "cell_type": "code",
   "execution_count": 20,
   "id": "9cfb0d72-dd78-434b-a394-0f12be055ca0",
   "metadata": {},
   "outputs": [
    {
     "name": "stdout",
     "output_type": "stream",
     "text": [
      "(89, 13)\n"
     ]
    }
   ],
   "source": [
    "df_param_search_subspace = df_param_search.loc[(df_param_search['cnt_common']>=2) &\n",
    "                    (df_param_search['is_luhn_sw']==False) &\n",
    "                    (df_param_search['is_sw_remove']==False) &\n",
    "                    (df_param_search['is_sw_zero']==False) &\n",
    "                    (df_param_search['stem_func']=='tokenize_stem_nltk') &\n",
    "                    (df_param_search['val_num_apart']==5)].copy()\n",
    "print(df_param_search_subspace.shape)"
   ]
  },
  {
   "cell_type": "code",
   "execution_count": 21,
   "id": "8ef66ae1-84de-4101-8513-e41b32bb69f9",
   "metadata": {},
   "outputs": [
    {
     "data": {
      "text/plain": [
       "vec_sent_ids\n",
       "23.0    85\n",
       "3.0     74\n",
       "16.0    64\n",
       "24.0    19\n",
       "18.0    18\n",
       "7.0      4\n",
       "10.0     2\n",
       "11.0     1\n",
       "Name: count, dtype: int64"
      ]
     },
     "execution_count": 21,
     "metadata": {},
     "output_type": "execute_result"
    }
   ],
   "source": [
    "df_param_search_subspace['vec_sent_ids'].explode().value_counts()"
   ]
  },
  {
   "cell_type": "code",
   "execution_count": 22,
   "id": "c3701456-5b60-4f88-b098-2a31d5e965c3",
   "metadata": {},
   "outputs": [
    {
     "data": {
      "text/html": [
       "<div>\n",
       "<style scoped>\n",
       "    .dataframe tbody tr th:only-of-type {\n",
       "        vertical-align: middle;\n",
       "    }\n",
       "\n",
       "    .dataframe tbody tr th {\n",
       "        vertical-align: top;\n",
       "    }\n",
       "\n",
       "    .dataframe thead th {\n",
       "        text-align: right;\n",
       "    }\n",
       "</style>\n",
       "<table border=\"1\" class=\"dataframe\">\n",
       "  <thead>\n",
       "    <tr style=\"text-align: right;\">\n",
       "      <th></th>\n",
       "      <th>str_sent_id</th>\n",
       "      <th>val_bound_lower</th>\n",
       "      <th>val_bound_upper</th>\n",
       "    </tr>\n",
       "  </thead>\n",
       "  <tbody>\n",
       "    <tr>\n",
       "      <th>0</th>\n",
       "      <td>11,23,24</td>\n",
       "      <td>4</td>\n",
       "      <td>10</td>\n",
       "    </tr>\n",
       "    <tr>\n",
       "      <th>1</th>\n",
       "      <td>18,23,24</td>\n",
       "      <td>4</td>\n",
       "      <td>24</td>\n",
       "    </tr>\n",
       "    <tr>\n",
       "      <th>2</th>\n",
       "      <td>3,10,23</td>\n",
       "      <td>7</td>\n",
       "      <td>12</td>\n",
       "    </tr>\n",
       "    <tr>\n",
       "      <th>3</th>\n",
       "      <td>3,16,23</td>\n",
       "      <td>22</td>\n",
       "      <td>41</td>\n",
       "    </tr>\n",
       "    <tr>\n",
       "      <th>4</th>\n",
       "      <td>3,18,23</td>\n",
       "      <td>7</td>\n",
       "      <td>24</td>\n",
       "    </tr>\n",
       "    <tr>\n",
       "      <th>5</th>\n",
       "      <td>3,7,24</td>\n",
       "      <td>11</td>\n",
       "      <td>24</td>\n",
       "    </tr>\n",
       "  </tbody>\n",
       "</table>\n",
       "</div>"
      ],
      "text/plain": [
       "  str_sent_id  val_bound_lower  val_bound_upper\n",
       "0    11,23,24                4               10\n",
       "1    18,23,24                4               24\n",
       "2     3,10,23                7               12\n",
       "3     3,16,23               22               41\n",
       "4     3,18,23                7               24\n",
       "5      3,7,24               11               24"
      ]
     },
     "execution_count": 22,
     "metadata": {},
     "output_type": "execute_result"
    }
   ],
   "source": [
    "df_param_search_subspace_pvt = df_param_search_subspace.pivot_table(index='str_sent_id',values=['val_bound_lower','val_bound_upper'],\n",
    "                                                                    aggfunc={'val_bound_lower':pd.Series.min,'val_bound_upper':pd.Series.max}).reset_index()\n",
    "df_param_search_subspace_pvt"
   ]
  },
  {
   "cell_type": "markdown",
   "id": "d70e86c6-da05-4f97-ad4f-119e8c7c4066",
   "metadata": {},
   "source": [
    "### Identify Quantiles from Parameters"
   ]
  },
  {
   "cell_type": "code",
   "execution_count": 23,
   "id": "f8438080-964a-4453-9133-11b605e05e5a",
   "metadata": {},
   "outputs": [],
   "source": [
    "def march_in_direction(val_x:int,vec_numbers:list,is_go_up:bool=True):\n",
    "    #Finds the index of an integer in the list vec_numbers, either going up or down the sorted the list\n",
    "    is_found = False\n",
    "    val_loc = -1\n",
    "    if(not is_go_up):\n",
    "        vec_numbers.sort(reverse=True)\n",
    "    else:\n",
    "        vec_numbers.sort(reverse=False)\n",
    "    while(not is_found):\n",
    "        try:\n",
    "            val_loc = vec_numbers.index(val_x)\n",
    "            is_found = True\n",
    "        except:\n",
    "            if(is_go_up):\n",
    "                val_x += 1\n",
    "            else:\n",
    "                val_x  -= 1\n",
    "    if(not is_go_up):\n",
    "        val_loc = len(vec_numbers)-val_loc-1\n",
    "        vec_numbers.sort(reverse=False)\n",
    "    return(val_loc)"
   ]
  },
  {
   "cell_type": "code",
   "execution_count": 24,
   "id": "944aa98e-2ea7-41bf-9727-3431e16a47b0",
   "metadata": {},
   "outputs": [],
   "source": [
    "def find_q_limits(val_x:int,vec_numbers:list):\n",
    "    val_q = 0.\n",
    "    if(val_x>=min(vec_numbers) and val_x<=max(vec_numbers)):\n",
    "        try:\n",
    "            vec_numbers.sort(reverse=True)\n",
    "            val_n_loc_max = len(vec_numbers)-vec_numbers.index(val_x)-1\n",
    "            vec_numbers.sort(reverse=False)\n",
    "            val_n_loc_min = vec_numbers.index(val_x)\n",
    "            val_q = (val_n_loc_min+val_n_loc_max-val_n_loc_min)/(2*len(vec_numbers))\n",
    "            return(val_q)\n",
    "        except:\n",
    "            val_q = np.mean([march_in_direction(val_x=val_x,vec_numbers=vec_numbers,is_go_up=False),march_in_direction(val_x=val_x,vec_numbers=vec_numbers,is_go_up=True)])/len(vec_numbers)\n",
    "            return(val_q)\n",
    "    elif(val_x<min(vec_numbers)):\n",
    "        print('REACHED MIN')\n",
    "        return(find_q_limits(val_x=min(vec_numbers),vec_numbers=vec_numbers))\n",
    "    elif(val_x>max(vec_numbers)):\n",
    "        print('REACHED MAX')\n",
    "        return(find_q_limits(val_x=max(vec_numbers),vec_numbers=vec_numbers))"
   ]
  },
  {
   "cell_type": "code",
   "execution_count": 25,
   "id": "0724c8a7-7b60-473b-aca5-18dea44574a2",
   "metadata": {},
   "outputs": [
    {
     "name": "stdout",
     "output_type": "stream",
     "text": [
      "Two major recent developments have called the attention of chemists, physiologists, physicists and other scientists to mental diseases: It has been found that extremely minute quantities of chemicals can induce hallucinations and bizarre psychic disturbances in normal people, and mood-altering drugs (tranquilizers, for instance) have made long-institutionalized people amenable to therapy. \u001b[31m[47.1698]\u001b[0m \"Only then will the metabolic era mature and bring to fruition man's long hoped for salvation from the ravages of mental disease,\" they reported.At the psychologist's meeting here, a technique for tracing electrical activity in specific portions of the animal brain was described by researchers from the University of California at Los Angeles. \u001b[31m[41.1429]\u001b[0m At the psychiatrists meeting in Zurich last week, four New York City physicians urged their colleagues to broaden their concept of \"mental disease,\" and to probe more deeply into the chemistry and metabolism of the human body for answers to mental disorders and their prevention. \u001b[31m[35.5556]\u001b[0m\n"
     ]
    }
   ],
   "source": [
    "#DO NOT REMOVE STOPWORDS\n",
    "#ZEROING STOPWORDS HAD MINIMAL EFFECT\n",
    "#DO NOT REMOVE LUHN STOPWORDS\n",
    "#NLTK STEMMING SEEMED TO HAVE THE MOST RESULTS WITH 2 SENTENCE MATCHES TO ORIGINAL\n",
    "#5 WAS THE FARTHERST SPAN THAT HAD THE MOST WITH 2 SENTENCE MATCHES TO ORIGINAL\n",
    "#1<->41 WAS C,D\n",
    "luhn_rtn = la.luhn_abstract.run_auto_summarization(val_text=val_text,is_print=True,\n",
    "                                                   vec_sw_luhn=[],\n",
    "                                                   is_sw_remove=False,\n",
    "                                                   is_sw_zero=False,\n",
    "                                                   val_num_sentences=3,\n",
    "                                                   val_lower_int=1,\n",
    "                                                   val_upper_int=41,\n",
    "                                                   val_spacing=5,\n",
    "                                                   func_stem_selected=la.luhn_abstract.tokenize_stem_nltk)"
   ]
  },
  {
   "cell_type": "code",
   "execution_count": 26,
   "id": "4030eed6-4e6f-48c9-a8fc-7807c9780c98",
   "metadata": {},
   "outputs": [
    {
     "name": "stdout",
     "output_type": "stream",
     "text": [
      "The lower quantile cutoff value (4) is approximately 0.3008...\n",
      "The upper quantile cutoff value (41) is approximately 0.8722...\n"
     ]
    }
   ],
   "source": [
    "vec_num_counts = luhn_rtn[0]['count'].tolist()\n",
    "print(f'''The lower quantile cutoff value (4) is approximately {'{:.4f}'.format(find_q_limits(val_x=4,vec_numbers=vec_num_counts))}...''')\n",
    "print(f'''The upper quantile cutoff value (41) is approximately {'{:.4f}'.format(find_q_limits(val_x=41,vec_numbers=vec_num_counts))}...''')"
   ]
  },
  {
   "cell_type": "code",
   "execution_count": 27,
   "id": "44d5f9c3-aaf3-4854-8d17-c634c9c039fd",
   "metadata": {},
   "outputs": [
    {
     "name": "stdout",
     "output_type": "stream",
     "text": [
      "The lower quantile cutoff value (4) is approximately 0.3008...\n",
      "The upper quantile cutoff value (41) is approximately 0.8722...\n"
     ]
    }
   ],
   "source": [
    "vec_num_counts = luhn_rtn[0]['count'].tolist()\n",
    "print(f'''The lower quantile cutoff value ({df_param_search_subspace_pvt['val_bound_lower'].min()}) is approximately {'{:.4f}'.format(find_q_limits(val_x=df_param_search_subspace_pvt['val_bound_lower'].min(),vec_numbers=vec_num_counts))}...''')\n",
    "print(f'''The upper quantile cutoff value ({df_param_search_subspace_pvt['val_bound_upper'].max()}) is approximately {'{:.4f}'.format(find_q_limits(val_x=df_param_search_subspace_pvt['val_bound_upper'].max(),vec_numbers=vec_num_counts))}...''')"
   ]
  },
  {
   "cell_type": "markdown",
   "id": "f9e8d560-89c6-42b8-87b2-931dcc6b2110",
   "metadata": {},
   "source": [
    "## Effort #2: Evaluating Modern NLP Corpus\n",
    "\n",
    "This effort uses data from the [CNN/Daily Mail](https://paperswithcode.com/dataset/cnn-daily-mail-1) effort, which provides news articles with short summaries written by the author.  The raw dataset was available from the [cnn-dailymail GitHub](https://github.com/abisee/cnn-dailymail).  The parser written below provides a quick method to extract and partially clean the article text while separting the highlights (summary) and retaining the ID.  This parser was not intended to holistically clean and produce text equivalent to the Stanford CoreNLP library, but rather as a method to more easily obtain the data for comparing automatic summariztion."
   ]
  },
  {
   "cell_type": "code",
   "execution_count": 28,
   "id": "8aee9547-6d59-40b9-91bc-4231155c11fb",
   "metadata": {},
   "outputs": [],
   "source": [
    "import glob\n",
    "from rouge_score import rouge_scorer\n",
    "import matplotlib.pyplot as plt"
   ]
  },
  {
   "cell_type": "code",
   "execution_count": 56,
   "id": "4049152c-d0e7-4334-b3af-3643aa76ed41",
   "metadata": {},
   "outputs": [
    {
     "name": "stdout",
     "output_type": "stream",
     "text": [
      "There are 92579 articles in total...\n",
      "CPU times: user 2.11 s, sys: 2.25 s, total: 4.35 s\n",
      "Wall time: 14.1 s\n"
     ]
    }
   ],
   "source": [
    "%%time\n",
    "#This code provides a rough ETL/parser for the CNN/DailyMail content...\n",
    "vec_story_files = glob.glob('./data/*.story')\n",
    "print(f'''There are {len(vec_story_files)} articles in total...''')\n",
    "vec_data = []\n",
    "for i,val_file_path in enumerate(vec_story_files):\n",
    "    tmp_open = open(val_file_path,'r').readlines()\n",
    "    tmp_story = ''\n",
    "    tmp_highlights = []\n",
    "    is_past_story = False\n",
    "    for line in tmp_open:\n",
    "        line = line.strip()\n",
    "        if(not is_past_story and line.startswith('@h')):\n",
    "            is_past_story = True\n",
    "        if(not line=='' and not is_past_story):\n",
    "            tmp_story = tmp_story+' '+line\n",
    "        elif(not line=='' and not line.startswith('@h')):\n",
    "            tmp_highlights.append(line)\n",
    "    if(tmp_story.find('-LRB- CNN -RRB-')>=0):\n",
    "        vec_story = tmp_story.split('-LRB- CNN -RRB-')\n",
    "        tmp_story = ' '.join(vec_story[1:])\n",
    "    if(0<=tmp_story.find('--')<50):\n",
    "        vec_story = tmp_story.split('--')\n",
    "        tmp_story = ' '.join(vec_story[1:])\n",
    "    vec_data.append([val_file_path.split('/')[-1].split('.')[0],tmp_story,tmp_highlights])\n",
    "    if(i>=9999):\n",
    "        break"
   ]
  },
  {
   "cell_type": "code",
   "execution_count": 57,
   "id": "36adebbb-249e-496a-89ea-ac5060748bcf",
   "metadata": {},
   "outputs": [
    {
     "name": "stdout",
     "output_type": "stream",
     "text": [
      "(10000, 3)\n"
     ]
    },
    {
     "data": {
      "text/html": [
       "<div>\n",
       "<style scoped>\n",
       "    .dataframe tbody tr th:only-of-type {\n",
       "        vertical-align: middle;\n",
       "    }\n",
       "\n",
       "    .dataframe tbody tr th {\n",
       "        vertical-align: top;\n",
       "    }\n",
       "\n",
       "    .dataframe thead th {\n",
       "        text-align: right;\n",
       "    }\n",
       "</style>\n",
       "<table border=\"1\" class=\"dataframe\">\n",
       "  <thead>\n",
       "    <tr style=\"text-align: right;\">\n",
       "      <th></th>\n",
       "      <th>article_id</th>\n",
       "      <th>story</th>\n",
       "      <th>highlight</th>\n",
       "    </tr>\n",
       "  </thead>\n",
       "  <tbody>\n",
       "    <tr>\n",
       "      <th>0</th>\n",
       "      <td>638ba1352bdf405a8f5bd681d7fe5c928686afff</td>\n",
       "      <td>At the start of a big week for the Higgs boso...</td>\n",
       "      <td>[U.S.-based scientists say their data points t...</td>\n",
       "    </tr>\n",
       "    <tr>\n",
       "      <th>1</th>\n",
       "      <td>f9f9601180ab3278165d936821e8f145659997f3</td>\n",
       "      <td>acquitted by a Florida jury over the death of...</td>\n",
       "      <td>[Zimmerman posts $ 5,000 bail ; he was accused...</td>\n",
       "    </tr>\n",
       "    <tr>\n",
       "      <th>2</th>\n",
       "      <td>80ec0efb252ec4470aee44482d1e196111b5780b</td>\n",
       "      <td>Zlatan Ibrahimovic scored his third goal in a...</td>\n",
       "      <td>[Barcelona move three points clear of Real Mad...</td>\n",
       "    </tr>\n",
       "    <tr>\n",
       "      <th>3</th>\n",
       "      <td>8435150be66ea9792999dfc233cc690f9c2fe2d0</td>\n",
       "      <td>Nobel laureate Norman E. Borlaug , an agricul...</td>\n",
       "      <td>[Borlaug died at the age of 95 from complicati...</td>\n",
       "    </tr>\n",
       "    <tr>\n",
       "      <th>4</th>\n",
       "      <td>1444cf4d1832507a29a98529c2cd1a41f0154b52</td>\n",
       "      <td>Louisiana Gov. Bobby Jindal on Monday stood b...</td>\n",
       "      <td>[Louisiana Gov. Bobby Jindal decried `` no-go ...</td>\n",
       "    </tr>\n",
       "  </tbody>\n",
       "</table>\n",
       "</div>"
      ],
      "text/plain": [
       "                                 article_id  \\\n",
       "0  638ba1352bdf405a8f5bd681d7fe5c928686afff   \n",
       "1  f9f9601180ab3278165d936821e8f145659997f3   \n",
       "2  80ec0efb252ec4470aee44482d1e196111b5780b   \n",
       "3  8435150be66ea9792999dfc233cc690f9c2fe2d0   \n",
       "4  1444cf4d1832507a29a98529c2cd1a41f0154b52   \n",
       "\n",
       "                                               story  \\\n",
       "0   At the start of a big week for the Higgs boso...   \n",
       "1   acquitted by a Florida jury over the death of...   \n",
       "2   Zlatan Ibrahimovic scored his third goal in a...   \n",
       "3   Nobel laureate Norman E. Borlaug , an agricul...   \n",
       "4   Louisiana Gov. Bobby Jindal on Monday stood b...   \n",
       "\n",
       "                                           highlight  \n",
       "0  [U.S.-based scientists say their data points t...  \n",
       "1  [Zimmerman posts $ 5,000 bail ; he was accused...  \n",
       "2  [Barcelona move three points clear of Real Mad...  \n",
       "3  [Borlaug died at the age of 95 from complicati...  \n",
       "4  [Louisiana Gov. Bobby Jindal decried `` no-go ...  "
      ]
     },
     "execution_count": 57,
     "metadata": {},
     "output_type": "execute_result"
    }
   ],
   "source": [
    "df_cnn = pd.DataFrame(vec_data,columns=['article_id','story','highlight'])\n",
    "print(df_cnn.shape)\n",
    "df_cnn.head()"
   ]
  },
  {
   "cell_type": "markdown",
   "id": "05a040f3-489e-4cc9-b615-a891cba571bc",
   "metadata": {},
   "source": [
    "It was observed that the following article IDs do not have stories."
   ]
  },
  {
   "cell_type": "code",
   "execution_count": 58,
   "id": "9f69ff18-f8a3-4e5c-a2b9-ec2c2dcf9583",
   "metadata": {},
   "outputs": [
    {
     "name": "stdout",
     "output_type": "stream",
     "text": [
      "- 226ca83313bb4db0917847f80fcf4a2d2af5007d\n",
      "- c36fb222cee4c1f4e38cf62ad37e2eb8dd0a85be\n",
      "- d4b4ee22583e0490d5e41e93941e8e6ec182d7ab\n",
      "- 2cb398794fea7b2dd83501c401c034ca73362323\n",
      "- 4a524c9714a5651a5f02497d23a8164f868babcd\n",
      "- 6e782862e65a315c67f8de9b6c6d0b4de21a6126\n",
      "- 7fa8a466d78b5232c91feceae35025b4c190e049\n",
      "- 84b530bc2b81c7f6b917906e0f6fc6dec87d4e8e\n",
      "- abb74e2466084a9968a305ac439229302e5de164\n",
      "- ce3271caecf540a64b4ae1b5943194ee1084b712\n",
      "- 97bb70b3837cff47e258c3ddf3aba494e6f4a139\n"
     ]
    }
   ],
   "source": [
    "print('- '+'\\n- '.join(df_cnn.loc[df_cnn['story']=='']['article_id'].tolist()))"
   ]
  },
  {
   "cell_type": "code",
   "execution_count": 59,
   "id": "dd6b876a-7ce3-4abe-82b1-11249ec6769d",
   "metadata": {},
   "outputs": [
    {
     "name": "stderr",
     "output_type": "stream",
     "text": [
      "100%|███████████████████████████████████████████████████████████████████████████| 10000/10000 [1:33:26<00:00,  1.78it/s]"
     ]
    },
    {
     "name": "stdout",
     "output_type": "stream",
     "text": [
      "CPU times: user 1h 32min 43s, sys: 48.7 s, total: 1h 33min 32s\n",
      "Wall time: 1h 33min 26s\n"
     ]
    },
    {
     "name": "stderr",
     "output_type": "stream",
     "text": [
      "\n"
     ]
    }
   ],
   "source": [
    "%%time\n",
    "#Setup storage for iteration results...\n",
    "val_cnt = 0\n",
    "vec_results = []\n",
    "\n",
    "#ROUGE scoring function\n",
    "rouge_scr = rouge_scorer.RougeScorer(['rouge1','rouge2','rougeL'],use_stemmer=True)\n",
    "\n",
    "#Create iterations over test conditions...\n",
    "for i,val_row in tqdm(df_cnn.iterrows(),total=df_cnn.shape[0],miniters=10):\n",
    "    if(not val_row['story']==''):\n",
    "        for val_n_gram_size in [-1,2]:\n",
    "            for func_summary_method in [None,np.mean]:\n",
    "                #Ensure the method is generating the same number of sentences as the highlight...\n",
    "                val_num_sents = len(val_row['highlight'])\n",
    "                luhn_rtn = la.luhn_abstract.run_auto_summarization(val_text=val_row['story'],\n",
    "                                                                   val_n_gram=val_n_gram_size,\n",
    "                                                                   val_num_sentences=val_num_sents,\n",
    "                                                                   is_sw_remove=False,\n",
    "                                                                   is_sw_zero=False,\n",
    "                                                                   is_use_luhn_tf=True,\n",
    "                                                                   vec_sw_luhn=la.luhn_abstract.vec_luhn_sw,\n",
    "                                                                   func_stem_selected=la.luhn_abstract.tokenize_stem_nltk,\n",
    "                                                                   func_summary_selected=func_summary_method,\n",
    "                                                                   is_print=False)\n",
    "                if(luhn_rtn[1].shape[0]>0):\n",
    "                    vec_tmp_ids = luhn_rtn[1]['id_sent'].iloc[0:val_num_sents].values.tolist()\n",
    "                    vec_results.append([val_row['article_id'],func_summary_method.__name__ if func_summary_method else 'None',val_n_gram_size,\n",
    "                                        #vec_tmp_ids,luhn_rtn[2],luhn_rtn[3]],\n",
    "                                        rouge_scr.score(target=' '.join(val_row['highlight']),prediction=' '.join(luhn_rtn[3]))])\n",
    "                    del(vec_tmp_ids)\n",
    "                val_cnt += 1"
   ]
  },
  {
   "cell_type": "code",
   "execution_count": 60,
   "id": "00c6ba78-8fdf-4137-93a6-bcb1400d36f6",
   "metadata": {},
   "outputs": [
    {
     "name": "stdout",
     "output_type": "stream",
     "text": [
      "This resulted in 39,956 iterations; 39,956 summaries were generated\n"
     ]
    },
    {
     "data": {
      "text/html": [
       "<div>\n",
       "<style scoped>\n",
       "    .dataframe tbody tr th:only-of-type {\n",
       "        vertical-align: middle;\n",
       "    }\n",
       "\n",
       "    .dataframe tbody tr th {\n",
       "        vertical-align: top;\n",
       "    }\n",
       "\n",
       "    .dataframe thead th {\n",
       "        text-align: right;\n",
       "    }\n",
       "</style>\n",
       "<table border=\"1\" class=\"dataframe\">\n",
       "  <thead>\n",
       "    <tr style=\"text-align: right;\">\n",
       "      <th></th>\n",
       "      <th>article_id</th>\n",
       "      <th>func_summary_method</th>\n",
       "      <th>n_gram_size</th>\n",
       "      <th>rouge</th>\n",
       "      <th>rouge_1_f</th>\n",
       "      <th>rouge_2_f</th>\n",
       "      <th>rouge_l_f</th>\n",
       "    </tr>\n",
       "  </thead>\n",
       "  <tbody>\n",
       "    <tr>\n",
       "      <th>0</th>\n",
       "      <td>638ba1352bdf405a8f5bd681d7fe5c928686afff</td>\n",
       "      <td>None</td>\n",
       "      <td>-1</td>\n",
       "      <td>{'rouge1': (0.2328767123287671, 0.629629629629...</td>\n",
       "      <td>0.340000</td>\n",
       "      <td>0.121212</td>\n",
       "      <td>0.190000</td>\n",
       "    </tr>\n",
       "    <tr>\n",
       "      <th>1</th>\n",
       "      <td>638ba1352bdf405a8f5bd681d7fe5c928686afff</td>\n",
       "      <td>mean</td>\n",
       "      <td>-1</td>\n",
       "      <td>{'rouge1': (0.2556390977443609, 0.629629629629...</td>\n",
       "      <td>0.363636</td>\n",
       "      <td>0.172973</td>\n",
       "      <td>0.160428</td>\n",
       "    </tr>\n",
       "    <tr>\n",
       "      <th>2</th>\n",
       "      <td>638ba1352bdf405a8f5bd681d7fe5c928686afff</td>\n",
       "      <td>None</td>\n",
       "      <td>2</td>\n",
       "      <td>{'rouge1': (0.24761904761904763, 0.48148148148...</td>\n",
       "      <td>0.327044</td>\n",
       "      <td>0.101911</td>\n",
       "      <td>0.150943</td>\n",
       "    </tr>\n",
       "    <tr>\n",
       "      <th>3</th>\n",
       "      <td>638ba1352bdf405a8f5bd681d7fe5c928686afff</td>\n",
       "      <td>mean</td>\n",
       "      <td>2</td>\n",
       "      <td>{'rouge1': (0.37333333333333335, 0.51851851851...</td>\n",
       "      <td>0.434109</td>\n",
       "      <td>0.204724</td>\n",
       "      <td>0.232558</td>\n",
       "    </tr>\n",
       "    <tr>\n",
       "      <th>4</th>\n",
       "      <td>f9f9601180ab3278165d936821e8f145659997f3</td>\n",
       "      <td>None</td>\n",
       "      <td>-1</td>\n",
       "      <td>{'rouge1': (0.1595744680851064, 0.340909090909...</td>\n",
       "      <td>0.217391</td>\n",
       "      <td>0.073529</td>\n",
       "      <td>0.115942</td>\n",
       "    </tr>\n",
       "  </tbody>\n",
       "</table>\n",
       "</div>"
      ],
      "text/plain": [
       "                                 article_id func_summary_method  n_gram_size  \\\n",
       "0  638ba1352bdf405a8f5bd681d7fe5c928686afff                None           -1   \n",
       "1  638ba1352bdf405a8f5bd681d7fe5c928686afff                mean           -1   \n",
       "2  638ba1352bdf405a8f5bd681d7fe5c928686afff                None            2   \n",
       "3  638ba1352bdf405a8f5bd681d7fe5c928686afff                mean            2   \n",
       "4  f9f9601180ab3278165d936821e8f145659997f3                None           -1   \n",
       "\n",
       "                                               rouge  rouge_1_f  rouge_2_f  \\\n",
       "0  {'rouge1': (0.2328767123287671, 0.629629629629...   0.340000   0.121212   \n",
       "1  {'rouge1': (0.2556390977443609, 0.629629629629...   0.363636   0.172973   \n",
       "2  {'rouge1': (0.24761904761904763, 0.48148148148...   0.327044   0.101911   \n",
       "3  {'rouge1': (0.37333333333333335, 0.51851851851...   0.434109   0.204724   \n",
       "4  {'rouge1': (0.1595744680851064, 0.340909090909...   0.217391   0.073529   \n",
       "\n",
       "   rouge_l_f  \n",
       "0   0.190000  \n",
       "1   0.160428  \n",
       "2   0.150943  \n",
       "3   0.232558  \n",
       "4   0.115942  "
      ]
     },
     "execution_count": 60,
     "metadata": {},
     "output_type": "execute_result"
    }
   ],
   "source": [
    "df_cnn_msmts = pd.DataFrame(vec_results,columns=['article_id','func_summary_method','n_gram_size','rouge'])\n",
    "df_cnn_msmts['rouge_1_f'] = [x['rouge1'].fmeasure for x in df_cnn_msmts['rouge']]\n",
    "df_cnn_msmts['rouge_2_f'] = [x['rouge2'].fmeasure for x in df_cnn_msmts['rouge']]\n",
    "df_cnn_msmts['rouge_l_f'] = [x['rougeL'].fmeasure for x in df_cnn_msmts['rouge']]\n",
    "print(f'''This resulted in {val_cnt:,} iterations; {df_cnn_msmts.shape[0]:,} summaries were generated''')\n",
    "df_cnn_msmts.head()"
   ]
  },
  {
   "cell_type": "markdown",
   "id": "16866297-e6c1-4be2-9353-fb67ab4d7f00",
   "metadata": {},
   "source": [
    "KDE Plots....."
   ]
  },
  {
   "cell_type": "code",
   "execution_count": 61,
   "id": "e3603790-a094-4991-bd55-3e4a66a096e7",
   "metadata": {},
   "outputs": [],
   "source": [
    "def get_lbls(str):\n",
    "    vec_str = str.lower().split('_')\n",
    "    rtn_val = 'Luhn' if vec_str[0]=='none' else vec_str[0].title()\n",
    "    rtn_val = rtn_val+' '+vec_str[1].title()+'-'+vec_str[2].title()\n",
    "    return(rtn_val)"
   ]
  },
  {
   "cell_type": "code",
   "execution_count": 62,
   "id": "a0ff1921-ba65-4d44-a574-971b46ff1926",
   "metadata": {},
   "outputs": [],
   "source": [
    "def get_plots(df):\n",
    "    vec_ngrams = df_cnn_msmts['n_gram_size'].unique().tolist()\n",
    "    vec_ngrams.sort(reverse=False)\n",
    "    fig,axs = plt.subplots(1,len(vec_ngrams),layout='constrained',figsize=(10,5))\n",
    "    for i,val_ngram in enumerate(vec_ngrams):\n",
    "        df_subset = df.loc[df['n_gram_size']==val_ngram].copy()\n",
    "        df1 = df_subset.pivot_table(index='article_id',columns='func_summary_method',values='rouge_1_f').reset_index()\n",
    "        df1.columns = ['article_id','none_rouge_1_f','mean_rouge_1_f']\n",
    "        df2 = df_subset.pivot_table(index='article_id',columns='func_summary_method',values='rouge_2_f').reset_index()\n",
    "        df2.columns = ['article_id','none_rouge_2_f','mean_rouge_2_f']\n",
    "        df3 = df_subset.pivot_table(index='article_id',columns='func_summary_method',values='rouge_l_f').reset_index()\n",
    "        df3.columns = ['article_id','none_rouge_l_f','mean_rouge_l_f']\n",
    "        df_cnn_msmts_rev = pd.merge(left=df1,right=df2,on='article_id',how='outer')\n",
    "        df_cnn_msmts_rev = pd.merge(left=df_cnn_msmts_rev,right=df3,on='article_id',how='outer')\n",
    "        df_cnn_msmts_rev.reset_index(inplace=True,drop=True)\n",
    "    \n",
    "        vec_colors = ['#006633','#FFCC33','#00CC66','#FFD966','#F7941E','#9D7F00']\n",
    "        vec_styles = ['solid','solid','dashed','dashed','dashdot','dashdot']\n",
    "        vec_columns = ['none_rouge_1_f','mean_rouge_1_f','none_rouge_2_f','mean_rouge_2_f','none_rouge_l_f','mean_rouge_l_f']\n",
    "        vec_lbls = [get_lbls(x) for x in vec_columns]\n",
    "        ax = df_cnn_msmts_rev[vec_columns].plot.kde(color=vec_colors,ax=axs[i])\n",
    "        ax.set_xlim(0.,1.)\n",
    "        ax.title.set_text('1-Gram' if val_ngram==-1 else f'{val_ngram}-Gram')\n",
    "        ax.set_xlabel('Rouge-F1 Metric')\n",
    "        for line,ls in zip(ax.get_lines(),vec_styles):\n",
    "            line.set_linestyle(ls)\n",
    "        if(i+1==len(vec_ngrams)):\n",
    "            leg = ax.legend() \n",
    "            for line_legend,ls in zip(leg.get_lines(),vec_styles):\n",
    "                line_legend.set_linestyle(ls)\n",
    "            ax.legend(labels=vec_lbls)\n",
    "        else:\n",
    "            ax. legend_ = None\n",
    "        ax.grid(visible=True,which='major',color='#D3D3D3')\n",
    "    return(fig)"
   ]
  },
  {
   "cell_type": "code",
   "execution_count": 63,
   "id": "8f8aef7b-7974-44c3-8083-6553a604e361",
   "metadata": {},
   "outputs": [
    {
     "data": {
      "image/png": "[encoded data removed]",
      "text/plain": [
       "<Figure size 1000x500 with 2 Axes>"
      ]
     },
     "metadata": {},
     "output_type": "display_data"
    }
   ],
   "source": [
    "fig = get_plots(df=df_cnn_msmts)\n",
    "fig.savefig('./images/fig_kde_rouge.png')"
   ]
  },
  {
   "cell_type": "code",
   "execution_count": 64,
   "id": "55b244ef-5861-4380-92c0-597291c7fd8d",
   "metadata": {},
   "outputs": [
    {
     "data": {
      "text/html": [
       "<div>\n",
       "<style scoped>\n",
       "    .dataframe tbody tr th:only-of-type {\n",
       "        vertical-align: middle;\n",
       "    }\n",
       "\n",
       "    .dataframe tbody tr th {\n",
       "        vertical-align: top;\n",
       "    }\n",
       "\n",
       "    .dataframe thead th {\n",
       "        text-align: right;\n",
       "    }\n",
       "</style>\n",
       "<table border=\"1\" class=\"dataframe\">\n",
       "  <thead>\n",
       "    <tr style=\"text-align: right;\">\n",
       "      <th></th>\n",
       "      <th>n_gram_size</th>\n",
       "      <th>func_summary_method</th>\n",
       "      <th>rouge_1_f</th>\n",
       "      <th>rouge_2_f</th>\n",
       "      <th>rouge_l_f</th>\n",
       "    </tr>\n",
       "  </thead>\n",
       "  <tbody>\n",
       "    <tr>\n",
       "      <th>0</th>\n",
       "      <td>-1</td>\n",
       "      <td>None</td>\n",
       "      <td>0.2709</td>\n",
       "      <td>0.0849</td>\n",
       "      <td>0.1626</td>\n",
       "    </tr>\n",
       "    <tr>\n",
       "      <th>1</th>\n",
       "      <td>-1</td>\n",
       "      <td>mean</td>\n",
       "      <td>0.2731</td>\n",
       "      <td>0.0845</td>\n",
       "      <td>0.1643</td>\n",
       "    </tr>\n",
       "    <tr>\n",
       "      <th>2</th>\n",
       "      <td>2</td>\n",
       "      <td>None</td>\n",
       "      <td>0.2729</td>\n",
       "      <td>0.0849</td>\n",
       "      <td>0.1698</td>\n",
       "    </tr>\n",
       "    <tr>\n",
       "      <th>3</th>\n",
       "      <td>2</td>\n",
       "      <td>mean</td>\n",
       "      <td>0.2733</td>\n",
       "      <td>0.0841</td>\n",
       "      <td>0.1723</td>\n",
       "    </tr>\n",
       "  </tbody>\n",
       "</table>\n",
       "</div>"
      ],
      "text/plain": [
       "   n_gram_size func_summary_method  rouge_1_f  rouge_2_f  rouge_l_f\n",
       "0           -1                None     0.2709     0.0849     0.1626\n",
       "1           -1                mean     0.2731     0.0845     0.1643\n",
       "2            2                None     0.2729     0.0849     0.1698\n",
       "3            2                mean     0.2733     0.0841     0.1723"
      ]
     },
     "execution_count": 64,
     "metadata": {},
     "output_type": "execute_result"
    }
   ],
   "source": [
    "np.round(df_cnn_msmts.pivot_table(index=['n_gram_size','func_summary_method'],values=['rouge_1_f','rouge_2_f','rouge_l_f'],aggfunc=pd.Series.mean).reset_index(),4)"
   ]
  },
  {
   "cell_type": "markdown",
   "id": "85b4d3a1-73b4-4b62-b3bc-3e34668c739f",
   "metadata": {},
   "source": [
    "<hr>\n",
    "\n",
    "# Original Notebook\n",
    "## Imports/Setup"
   ]
  },
  {
   "cell_type": "code",
   "execution_count": 40,
   "id": "b62d2001-874a-4008-94f0-f33887f45074",
   "metadata": {},
   "outputs": [],
   "source": [
    "import requests\n",
    "import bs4 as bs"
   ]
  },
  {
   "cell_type": "code",
   "execution_count": 41,
   "id": "fc727778-79ef-4ddb-8725-c597bca19ee3",
   "metadata": {},
   "outputs": [],
   "source": [
    "def scrape_page_wikipedia(val_url):\n",
    "    html_scraped_text = requests.get(val_url)\n",
    "    html_text_parsed = bs.BeautifulSoup(html_scraped_text.content,'lxml')\n",
    "    html_text_content = html_text_parsed.find(id='content')\n",
    "    html_text_paragraphs = html_text_content.find_all('p')\n",
    "    val_text_formatted = ''\n",
    "    for val in html_text_paragraphs:\n",
    "        val_text_formatted += val.text\n",
    "    return(val_text_formatted)"
   ]
  },
  {
   "cell_type": "markdown",
   "id": "a18097d6-c67e-4a74-a497-124fd7d15820",
   "metadata": {},
   "source": [
    "## Examples\n",
    "### Request NLP Wikipedia Summary"
   ]
  },
  {
   "cell_type": "code",
   "execution_count": 42,
   "id": "91f47de3-6708-46be-b423-ce009c4c8d1b",
   "metadata": {},
   "outputs": [
    {
     "name": "stdout",
     "output_type": "stream",
     "text": [
      "CPU times: user 163 ms, sys: 9.45 ms, total: 173 ms\n",
      "Wall time: 403 ms\n"
     ]
    }
   ],
   "source": [
    "%%time\n",
    "val_text = scrape_page_wikipedia(val_url='https://en.wikipedia.org/wiki/natural_language_processing')"
   ]
  },
  {
   "cell_type": "markdown",
   "id": "ab2f3102-82a1-4769-9e8c-f3ad49e5930d",
   "metadata": {},
   "source": [
    "#### Experiment #1: Use Luhn Score\n",
    "\n",
    "| Parameter | Value (English) | Value (Set) |\n",
    "| :-: | :-: | :-: |\n",
    "| Stop Words Removed from Text| No | False |\n",
    "| Counting Method | Luhn Counting | True |\n",
    "| Stop Words Removed from Score | No | False |\n",
    "| Aggregation Function | Luhn Algorithm | None |"
   ]
  },
  {
   "cell_type": "code",
   "execution_count": 43,
   "id": "aa3ca42c-7523-49af-9875-308d3b61abb1",
   "metadata": {},
   "outputs": [
    {
     "name": "stdout",
     "output_type": "stream",
     "text": [
      "Quantile Significance Lower = 1\n",
      "Quantile Significance Upper = 32\n",
      "Machine learning approaches, which include both statistical and neural networks, on the other hand, have many advantages over the symbolic approach:  Although rule-based systems for manipulating symbols were still in use in 2020, they have become mostly obsolete with the advance of LLMs in 2023. \u001b[31m[25.6000]\u001b[0m [8] In 2003, word n-gram model, at the time the best statistical algorithm, was outperformed by a multi-layer perceptron (with a single hidden layer and context length of several words trained on up to 14 million of words with a CPU cluster in language modelling) by Yoshua Bengio with co-authors. \u001b[31m[19.6923]\u001b[0m [57] Likewise, ideas of cognitive NLP are inherent to neural models multimodal NLP (although rarely made explicit)[58] and developments in artificial intelligence, specifically tools and technologies using large language model approaches[59] and new directions in artificial general intelligence based on the free energy principle[60] by British neuroscientist and theoretician at University College London Karl J. Friston. \u001b[31m[18.2250]\u001b[0m [17] Symbolic approach, i.e., the hand-coding of a set of rules for manipulating symbols, coupled with a dictionary lookup, was historically the first approach used both by AI in general and by NLP in particular:[18][19] such as by writing grammars or devising heuristic rules for stemming. \u001b[31m[17.5208]\u001b[0m\n",
      "CPU times: user 630 ms, sys: 17.5 ms, total: 648 ms\n",
      "Wall time: 634 ms\n"
     ]
    }
   ],
   "source": [
    "%%time\n",
    "luhn_rtn_exp1 = la.luhn_abstract.run_auto_summarization(val_text=val_text,\n",
    "                                                        is_sw_remove=False,\n",
    "                                                        is_sw_zero=False,\n",
    "                                                        is_use_luhn_tf=True,\n",
    "                                                        vec_sw_luhn=[],\n",
    "                                                        vec_sw_add=[],\n",
    "                                                        func_stem_selected=None,\n",
    "                                                        func_summary_selected=None,\n",
    "                                                        is_print=True)"
   ]
  },
  {
   "cell_type": "markdown",
   "id": "67502dcf-706f-4397-b6e7-4a05aa429b51",
   "metadata": {},
   "source": [
    "#### Experiment #2: Remove Stop Words\n",
    "\n",
    "| Parameter | Value (English) | Value (Set) |\n",
    "| :-: | :-: | :-: |\n",
    "| Stop Words Removed from Text| Yes | True |\n",
    "| Counting Method | Luhn Counting | True |\n",
    "| Stop Words Removed from Score | No | False |\n",
    "| Aggregation Function | Luhn Algorithm | None |"
   ]
  },
  {
   "cell_type": "code",
   "execution_count": 44,
   "id": "2511b05f-48e4-4e33-a0e2-9c00409f009c",
   "metadata": {},
   "outputs": [
    {
     "name": "stdout",
     "output_type": "stream",
     "text": [
      "Quantile Significance Lower = 1\n",
      "Quantile Significance Upper = 10\n",
      "Machine learning approaches, which include both statistical and neural networks, on the other hand, have many advantages over the symbolic approach:  Although rule-based systems for manipulating symbols were still in use in 2020, they have become mostly obsolete with the advance of LLMs in 2023. \u001b[31m[15.0417]\u001b[0m Typically data is collected in text corpora, using either rule-based, statistical or neural-based approaches in machine learning and deep learning. \u001b[31m[10.5625]\u001b[0m Only the introduction of hidden Markov models, applied to part-of-speech tagging, announced the end of the old rule-based approach. \u001b[31m[8.6429]\u001b[0m Neural machine translation, based on then-newly-invented sequence-to-sequence transformations, made obsolete the intermediate steps, such as word alignment, previously necessary for statistical machine translation. \u001b[31m[8.4500]\u001b[0m\n",
      "CPU times: user 257 ms, sys: 8.43 ms, total: 265 ms\n",
      "Wall time: 259 ms\n"
     ]
    }
   ],
   "source": [
    "%%time\n",
    "luhn_rtn_exp2 = la.luhn_abstract.run_auto_summarization(val_text=val_text,\n",
    "                                                        is_sw_remove=True,\n",
    "                                                        is_sw_zero=False,\n",
    "                                                        is_use_luhn_tf=True,\n",
    "                                                        vec_sw_luhn=[],\n",
    "                                                        vec_sw_add=[],\n",
    "                                                        func_stem_selected=None,\n",
    "                                                        func_summary_selected=None,\n",
    "                                                        is_print=True)"
   ]
  },
  {
   "cell_type": "markdown",
   "id": "75f86b7d-dce1-459f-bc8c-b2ae42a3234a",
   "metadata": {},
   "source": [
    "#### Experiment #3: Use Mean Score\n",
    "\n",
    "| Parameter | Value (English) | Value (Set) |\n",
    "| :-: | :-: | :-: |\n",
    "| Stop Words Removed from Text| No | False |\n",
    "| Counting Method | Luhn Counting | True |\n",
    "| Stop Words Removed from Score | No | False |\n",
    "| Aggregation Function | Mean | np.mean |"
   ]
  },
  {
   "cell_type": "code",
   "execution_count": 45,
   "id": "36991b12-1c23-497d-8740-6e18c8e553c3",
   "metadata": {},
   "outputs": [
    {
     "name": "stdout",
     "output_type": "stream",
     "text": [
      "Quantile Significance Lower = 1\n",
      "Quantile Significance Upper = 32\n",
      "Machine learning approaches, which include both statistical and neural networks, on the other hand, have many advantages over the symbolic approach:  Although rule-based systems for manipulating symbols were still in use in 2020, they have become mostly obsolete with the advance of LLMs in 2023. \u001b[31m[11.5000]\u001b[0m [8] In 2003, word n-gram model, at the time the best statistical algorithm, was outperformed by a multi-layer perceptron (with a single hidden layer and context length of several words trained on up to 14 million of words with a CPU cluster in language modelling) by Yoshua Bengio with co-authors. \u001b[31m[9.9623]\u001b[0m [17] Symbolic approach, i.e., the hand-coding of a set of rules for manipulating symbols, coupled with a dictionary lookup, was historically the first approach used both by AI in general and by NLP in particular:[18][19] such as by writing grammars or devising heuristic rules for stemming. \u001b[31m[8.7000]\u001b[0m The premise of symbolic NLP is well-summarized by John Searle's Chinese room experiment: Given a collection of rules (e.g., a Chinese phrasebook, with questions and matching answers), the computer emulates natural language understanding (or other NLP tasks) by applying those rules to the data it confronts. \u001b[31m[8.2857]\u001b[0m\n",
      "CPU times: user 611 ms, sys: 9.15 ms, total: 620 ms\n",
      "Wall time: 614 ms\n"
     ]
    }
   ],
   "source": [
    "%%time\n",
    "luhn_rtn_exp3 = la.luhn_abstract.run_auto_summarization(val_text=val_text,\n",
    "                                                        is_sw_remove=False,\n",
    "                                                        is_sw_zero=False,\n",
    "                                                        is_use_luhn_tf=True,\n",
    "                                                        vec_sw_luhn=[],\n",
    "                                                        vec_sw_add=[],\n",
    "                                                        func_stem_selected=None,\n",
    "                                                        func_summary_selected=np.mean,\n",
    "                                                        is_print=True)"
   ]
  },
  {
   "cell_type": "markdown",
   "id": "bd73e984-65d8-49de-9eb9-34a4339f4262",
   "metadata": {},
   "source": [
    "#### Experiment #4: Zero Score Stop Words\n",
    "\n",
    "| Parameter | Value (English) | Value (Set) |\n",
    "| :-: | :-: | :-: |\n",
    "| Stop Words Removed from Text| No | False |\n",
    "| Counting Method | Luhn Counting | True |\n",
    "| Stop Words Removed from Score | Yes | True |\n",
    "| Aggregation Function | Luhn Algorithm | None |"
   ]
  },
  {
   "cell_type": "code",
   "execution_count": 46,
   "id": "4f2e42f1-f062-42fc-97fb-bcab9aadbf19",
   "metadata": {},
   "outputs": [
    {
     "name": "stdout",
     "output_type": "stream",
     "text": [
      "Quantile Significance Lower = 0\n",
      "Quantile Significance Upper = 32\n",
      "[17] Symbolic approach, i.e., the hand-coding of a set of rules for manipulating symbols, coupled with a dictionary lookup, was historically the first approach used both by AI in general and by NLP in particular:[18][19] such as by writing grammars or devising heuristic rules for stemming. \u001b[31m[18.7500]\u001b[0m As of 2020, three trends among the topics of the long-standing series of CoNLL Shared Tasks can be observed:[46] Most higher-level NLP applications involve aspects that emulate intelligent behaviour and apparent comprehension of natural language. \u001b[31m[17.8571]\u001b[0m [57] Likewise, ideas of cognitive NLP are inherent to neural models multimodal NLP (although rarely made explicit)[58] and developments in artificial intelligence, specifically tools and technologies using large language model approaches[59] and new directions in artificial general intelligence based on the free energy principle[60] by British neuroscientist and theoretician at University College London Karl J. Friston. \u001b[31m[17.7805]\u001b[0m Machine learning approaches, which include both statistical and neural networks, on the other hand, have many advantages over the symbolic approach:  Although rule-based systems for manipulating symbols were still in use in 2020, they have become mostly obsolete with the advance of LLMs in 2023. \u001b[31m[17.3333]\u001b[0m\n",
      "CPU times: user 640 ms, sys: 18.7 ms, total: 659 ms\n",
      "Wall time: 646 ms\n"
     ]
    }
   ],
   "source": [
    "%%time\n",
    "luhn_rtn_exp4 = la.luhn_abstract.run_auto_summarization(val_text=val_text,\n",
    "                                                        is_sw_remove=False,\n",
    "                                                        is_sw_zero=True,\n",
    "                                                        is_use_luhn_tf=True,\n",
    "                                                        vec_sw_luhn=[],\n",
    "                                                        vec_sw_add=[],\n",
    "                                                        func_stem_selected=None,\n",
    "                                                        func_summary_selected=None,\n",
    "                                                        is_print=True)"
   ]
  },
  {
   "cell_type": "markdown",
   "id": "5f86b663-8ff0-4920-b9b5-e5edf9fd9642",
   "metadata": {},
   "source": [
    "#### Experiment #4: Use TF Counting w/Mean Score\n",
    "\n",
    "$$tf=\\frac{f_t}{\\sum{f_t}}$$\n",
    "\n",
    "| Parameter | Value (English) | Value (Set) |\n",
    "| :-: | :-: | :-: |\n",
    "| Stop Words Removed from Text| No | False |\n",
    "| Counting Method | TF Counting | False |\n",
    "| Stop Words Removed from Score | No | False |\n",
    "| Aggregation Function | Mean | np.mean |"
   ]
  },
  {
   "cell_type": "code",
   "execution_count": 47,
   "id": "4ddb09da-ad85-41aa-8dd3-987491a8df15",
   "metadata": {},
   "outputs": [
    {
     "name": "stdout",
     "output_type": "stream",
     "text": [
      "Quantile Significance Lower = 0\n",
      "Quantile Significance Upper = 0\n",
      "Machine learning approaches, which include both statistical and neural networks, on the other hand, have many advantages over the symbolic approach:  Although rule-based systems for manipulating symbols were still in use in 2020, they have become mostly obsolete with the advance of LLMs in 2023. \u001b[31m[11.5000]\u001b[0m [8] In 2003, word n-gram model, at the time the best statistical algorithm, was outperformed by a multi-layer perceptron (with a single hidden layer and context length of several words trained on up to 14 million of words with a CPU cluster in language modelling) by Yoshua Bengio with co-authors. \u001b[31m[9.9623]\u001b[0m [17] Symbolic approach, i.e., the hand-coding of a set of rules for manipulating symbols, coupled with a dictionary lookup, was historically the first approach used both by AI in general and by NLP in particular:[18][19] such as by writing grammars or devising heuristic rules for stemming. \u001b[31m[8.7000]\u001b[0m The premise of symbolic NLP is well-summarized by John Searle's Chinese room experiment: Given a collection of rules (e.g., a Chinese phrasebook, with questions and matching answers), the computer emulates natural language understanding (or other NLP tasks) by applying those rules to the data it confronts. \u001b[31m[8.2857]\u001b[0m\n",
      "CPU times: user 648 ms, sys: 8.56 ms, total: 657 ms\n",
      "Wall time: 651 ms\n"
     ]
    }
   ],
   "source": [
    "%%time\n",
    "luhn_rtn_exp5 = la.luhn_abstract.run_auto_summarization(val_text=val_text,\n",
    "                                                        is_sw_remove=False,\n",
    "                                                        is_sw_zero=False,\n",
    "                                                        is_use_luhn_tf=False,\n",
    "                                                        vec_sw_luhn=[],\n",
    "                                                        vec_sw_add=[],\n",
    "                                                        func_stem_selected=None,\n",
    "                                                        func_summary_selected=np.mean,\n",
    "                                                        is_print=True)"
   ]
  },
  {
   "cell_type": "markdown",
   "id": "da013bdf-a2c1-4ea2-ad02-2ce1b60da858",
   "metadata": {},
   "source": [
    "#### Experiment #5: Use TF Counting\n",
    "\n",
    "| Parameter | Value (English) | Value (Set) |\n",
    "| :-: | :-: | :-: |\n",
    "| Stop Words Removed from Text| No | False |\n",
    "| Counting Method | TF Counting | False |\n",
    "| Stop Words Removed from Score | No | False |\n",
    "| Aggregation Function | Luhn Algorithm | None |"
   ]
  },
  {
   "cell_type": "code",
   "execution_count": 48,
   "id": "d9e5df40-073a-425f-8a2a-5b2e66a02d07",
   "metadata": {},
   "outputs": [
    {
     "name": "stdout",
     "output_type": "stream",
     "text": [
      "Quantile Significance Lower = 0\n",
      "Quantile Significance Upper = 0\n",
      "Machine learning approaches, which include both statistical and neural networks, on the other hand, have many advantages over the symbolic approach:  Although rule-based systems for manipulating symbols were still in use in 2020, they have become mostly obsolete with the advance of LLMs in 2023. \u001b[31m[25.6000]\u001b[0m [8] In 2003, word n-gram model, at the time the best statistical algorithm, was outperformed by a multi-layer perceptron (with a single hidden layer and context length of several words trained on up to 14 million of words with a CPU cluster in language modelling) by Yoshua Bengio with co-authors. \u001b[31m[19.6923]\u001b[0m [57] Likewise, ideas of cognitive NLP are inherent to neural models multimodal NLP (although rarely made explicit)[58] and developments in artificial intelligence, specifically tools and technologies using large language model approaches[59] and new directions in artificial general intelligence based on the free energy principle[60] by British neuroscientist and theoretician at University College London Karl J. Friston. \u001b[31m[18.2250]\u001b[0m [17] Symbolic approach, i.e., the hand-coding of a set of rules for manipulating symbols, coupled with a dictionary lookup, was historically the first approach used both by AI in general and by NLP in particular:[18][19] such as by writing grammars or devising heuristic rules for stemming. \u001b[31m[17.5208]\u001b[0m\n",
      "CPU times: user 649 ms, sys: 8.42 ms, total: 657 ms\n",
      "Wall time: 651 ms\n"
     ]
    }
   ],
   "source": [
    "%%time\n",
    "luhn_rtn_exp5 = la.luhn_abstract.run_auto_summarization(val_text=val_text,\n",
    "                                                        is_sw_remove=False,\n",
    "                                                        is_sw_zero=False,\n",
    "                                                        is_use_luhn_tf=False,\n",
    "                                                        vec_sw_luhn=[],\n",
    "                                                        vec_sw_add=[],\n",
    "                                                        func_stem_selected=None,\n",
    "                                                        func_summary_selected=None,\n",
    "                                                        is_print=True)"
   ]
  },
  {
   "cell_type": "markdown",
   "id": "a399aa17-9a00-451c-81cd-9eb5a9480f4c",
   "metadata": {},
   "source": [
    "#### Experiment #5: Use TF Counting w/Stop Words Zeroed\n",
    "\n",
    "| Parameter | Value (English) | Value (Set) |\n",
    "| :-: | :-: | :-: |\n",
    "| Stop Words Removed from Text| No | False |\n",
    "| Counting Method | TF Counting | False |\n",
    "| Stop Words Removed from Score | Yes | True |\n",
    "| Aggregation Function | Mean | np.mean |"
   ]
  },
  {
   "cell_type": "code",
   "execution_count": 49,
   "id": "2d441466-b329-4377-97d4-57263fa8043f",
   "metadata": {},
   "outputs": [
    {
     "name": "stdout",
     "output_type": "stream",
     "text": [
      "Quantile Significance Lower = 0\n",
      "Quantile Significance Upper = 0\n",
      "[17] Symbolic approach, i.e., the hand-coding of a set of rules for manipulating symbols, coupled with a dictionary lookup, was historically the first approach used both by AI in general and by NLP in particular:[18][19] such as by writing grammars or devising heuristic rules for stemming. \u001b[31m[9.3000]\u001b[0m As of 2020, three trends among the topics of the long-standing series of CoNLL Shared Tasks can be observed:[46] Most higher-level NLP applications involve aspects that emulate intelligent behaviour and apparent comprehension of natural language. \u001b[31m[8.5526]\u001b[0m Machine learning approaches, which include both statistical and neural networks, on the other hand, have many advantages over the symbolic approach:  Although rule-based systems for manipulating symbols were still in use in 2020, they have become mostly obsolete with the advance of LLMs in 2023. \u001b[31m[7.6957]\u001b[0m [57] Likewise, ideas of cognitive NLP are inherent to neural models multimodal NLP (although rarely made explicit)[58] and developments in artificial intelligence, specifically tools and technologies using large language model approaches[59] and new directions in artificial general intelligence based on the free energy principle[60] by British neuroscientist and theoretician at University College London Karl J. Friston. \u001b[31m[7.3390]\u001b[0m\n",
      "CPU times: user 641 ms, sys: 16.3 ms, total: 658 ms\n",
      "Wall time: 645 ms\n"
     ]
    }
   ],
   "source": [
    "%%time\n",
    "luhn_rtn_exp5 = la.luhn_abstract.run_auto_summarization(val_text=val_text,\n",
    "                                                        is_sw_remove=False,\n",
    "                                                        is_sw_zero=True,\n",
    "                                                        is_use_luhn_tf=False,\n",
    "                                                        vec_sw_luhn=[],\n",
    "                                                        vec_sw_add=[],\n",
    "                                                        func_stem_selected=None,\n",
    "                                                        func_summary_selected=np.mean,\n",
    "                                                        is_print=True)"
   ]
  },
  {
   "cell_type": "markdown",
   "id": "3c60dc2d-b8c9-4914-876e-ab86fd089720",
   "metadata": {},
   "source": [
    "### Request George Washington Wikipedia Summary"
   ]
  },
  {
   "cell_type": "code",
   "execution_count": 50,
   "id": "1a7bf20d-3dcb-4dc8-b95a-ff29f2b095a9",
   "metadata": {},
   "outputs": [
    {
     "name": "stdout",
     "output_type": "stream",
     "text": [
      "CPU times: user 197 ms, sys: 5.1 ms, total: 202 ms\n",
      "Wall time: 343 ms\n"
     ]
    }
   ],
   "source": [
    "%%time\n",
    "val_text = scrape_page_wikipedia(val_url='https://en.wikipedia.org/wiki/George_Washington')"
   ]
  },
  {
   "cell_type": "code",
   "execution_count": 51,
   "id": "376f06c3-5efb-42ff-b02c-5912bfd1e145",
   "metadata": {},
   "outputs": [
    {
     "name": "stdout",
     "output_type": "stream",
     "text": [
      "Quantile Significance Lower = 4\n",
      "Quantile Significance Upper = 506\n",
      "He also maintains that Washington never advocated outright confiscation of tribal land or the forcible removal of tribes and that he berated American settlers who abused natives, admitting that he held out no hope for peaceful relations as long as \"frontier settlers entertain the opinion that there is not the same crime (or indeed no crime at all) in killing a native as in killing a white man. \u001b[31m[32.9701]\u001b[0m Appointed by the Second Continental Congress as commander of the Continental Army in 1775, Washington led Patriot forces to victory in the American Revolutionary War and then served as president of the Constitutional Convention in 1787, which drafted the current Constitution of the United States. \u001b[31m[28.8000]\u001b[0m While his relationship with Washington would remain friendly, Washington's relationship with his Secretary of War Henry Knox deteriorated after rumors that Knox had profited from contracts for the construction of U.S. frigates which had been commissioned under the Naval Act of 1794 in order to combat Barbary pirates, forcing Knox to resign. \u001b[31m[27.5745]\u001b[0m [38] Washington, impatient for an offensive against Fort Duquesne, was convinced Braddock would have granted him a royal commission and pressed his case in February 1756 with Braddock's successor as Commander-in-Chief, William Shirley, and again in January 1757 with Shirley's successor, Lord Loudoun. \u001b[31m[23.8140]\u001b[0m\n"
     ]
    }
   ],
   "source": [
    "luhn_rtn_exp6 = la.luhn_abstract.run_auto_summarization(val_text=val_text,\n",
    "                                                        is_sw_remove=False,\n",
    "                                                        is_sw_zero=False,\n",
    "                                                        is_use_luhn_tf=True,\n",
    "                                                        vec_sw_luhn=[],\n",
    "                                                        vec_sw_add=[],\n",
    "                                                        func_stem_selected=None,\n",
    "                                                        func_summary_selected=None,\n",
    "                                                        is_print=True)"
   ]
  },
  {
   "cell_type": "markdown",
   "id": "b5cce7f0-b43c-4790-a06c-910bb05753b0",
   "metadata": {},
   "source": [
    "### Request GMU Wikipedia Summary"
   ]
  },
  {
   "cell_type": "code",
   "execution_count": 52,
   "id": "6fcee509-d839-4c70-9cb1-29c9aed9a0d1",
   "metadata": {},
   "outputs": [],
   "source": [
    "val_text = scrape_page_wikipedia(val_url='https://en.wikipedia.org/wiki/George_Mason_University')"
   ]
  },
  {
   "cell_type": "code",
   "execution_count": 53,
   "id": "45db3c12-4ed3-4641-8d37-e80bcc2df464",
   "metadata": {},
   "outputs": [
    {
     "name": "stdout",
     "output_type": "stream",
     "text": [
      "Quantile Significance Lower = 3\n",
      "Quantile Significance Upper = 143\n",
      "8 in the nation for Freedom of Speech and protecting rights enshrined in the First Amendment to the United States Constitution according to the Foundation for Individual Rights and Expression (FIRE), FIRE also posits that the majority viewpoint of the student body leans politically liberal in the sense of modern liberalism in the United States,[138][139] although the political ideologies of libertarianism in the United States[140][141][142] and conservatism in the United States[143][144] are also visible on campus with the university stating that it strives for \"comprehensive ideological balance,\" evidence including but not limited to the university being \"home to both the Antonin Scalia Law School and the Jimmy and Rosalynn Carter School for Peace and Conflict Resolution,\" named after a conservative U.S. Supreme Court Justice (Antonin Scalia) politically appointed by Republican Party U.S. President and a liberal U.S. President (Jimmy Carter) and First Lady (Rosalynn Carter) who are members of the Democratic Party, respectively. \u001b[31m[52.3636]\u001b[0m Among undergraduate students, 80% of students are enrolled full-time while 20% are enrolled part-time[146] In terms of ethnic and racial demographics: American Indian/Alaska Native people make up 0% of the student body and 0% of the full-time staff; Asian people make up 22% of the student body and 14% of the full-time staff; Black people make up 11% of the student body and 5% of the full-time staff; Hispanic and Latino people make up 17% of the student population and 3% of the full-time staff; Native Hawaiian/Pacific Islander people make up 0% of the student body and 0% of the full-time staff; non-resident alien people make up 5% of the student body and 8% of the full-time staff; people of two or more races/multiracial people make up 5% of the student body and 2% of the full-time staff; people of an Unknown ethno-racial demographic make up 3% of the student body and 3% of the full-time staff; and White people make up 36% of the student body and 65% of the full-time staff. \u001b[31m[28.4462]\u001b[0m [56] The Arlington Campus, named Mason Square in 2022,[57] is situated on 5.2 acres (2.1 hectares) in Virginia Square, an urban environment on the edge of Arlington County, Virginia's Clarendon business district and four miles (6.4 km) from downtown Washington, D.C. \u001b[31m[27.2222]\u001b[0m South Korea:  George Mason University (GMU) is a public research university in Fairfax County, Virginia, in Northern Virginia, near Washington, D.C.[9] The university is named in honor of George Mason, a Founding Father of the United States. \u001b[31m[25.4848]\u001b[0m\n"
     ]
    }
   ],
   "source": [
    "luhn_rtn_exp7 = la.luhn_abstract.run_auto_summarization(val_text=val_text,\n",
    "                                                        is_sw_remove=False,\n",
    "                                                        is_sw_zero=False,\n",
    "                                                        is_use_luhn_tf=True,\n",
    "                                                        vec_sw_luhn=[],\n",
    "                                                        vec_sw_add=[],\n",
    "                                                        func_stem_selected=None,\n",
    "                                                        func_summary_selected=None,\n",
    "                                                        is_print=True)"
   ]
  },
  {
   "cell_type": "markdown",
   "id": "de4a79cd-64e4-40c8-bb78-75f19d82d469",
   "metadata": {},
   "source": [
    "## Random Example\n",
    "\n",
    "*Source: Scientific American*  \n",
    "*Title: A New Quantum Cheshire Cat Thought Experiment Is Out of the Box*  \n",
    "*Author: Manon Bischoff*\n",
    "\n",
    "[A New Quantum Cheshire Cat Thought Experiment Is Out of the Box](https://www.scientificamerican.com/article/a-new-quantum-cheshire-cat-thought-experiment-is-out-of-the-box/)"
   ]
  },
  {
   "cell_type": "code",
   "execution_count": 54,
   "id": "494a2d7a-d103-495b-b827-9c513311aac7",
   "metadata": {},
   "outputs": [],
   "source": [
    "val_text = '''Physicists seem to be obsessed with cats. James Clerk Maxwell, the father of electrodynamics, studied falling felines to investigate how they turned as they fell. Many physics teachers have used a cat’s fur and a hard rubber rod to explain the phenomenon of frictional electricity. And Erwin Schrödinger famously illustrated the strangeness of quantum physics with a thought experiment involving a cat that is neither dead nor alive.  So it hardly seems surprising that physicists turned to felines once again to name a newly discovered quantum phenomenon in a paper published in the New Journal of Physics in 2013. Their three-sentence study abstract reads, “In this paper we present a quantum Cheshire Cat. In a pre- and post-selected experiment we find the Cat in one place, and its grin in another. The Cat is a photon, while the grin is its circular polarization.”\n",
    "The newfound phenomenon was one in which certain particle features take a different path from their particle—much like the smile of the Cheshire Cat in Alice’s Adventures in Wonderland, written by Lewis Carroll—a pen name of mathematician Charles Lutwidge Dodgson—and published in 1865. To date, several experiments have demonstrated this curious quantum effect. But the idea has also drawn significant skepticism. Critics are less concerned about the theoretical calculations or experimental rigor than they are about the interpretation of the evidence. “It seems a bit bold to me to talk about disembodied transmission,” says physicist Holger Hofmann of Hiroshima University in Japan. “Instead we should revise our idea of particles.”  Recently researchers led by Yakir Aharonov of Chapman University took the debate to the next level. Aharonov was a co-author of the first paper to propose the quantum Cheshire effect. Now, on the preprint server arXiv.org, he and his colleagues have posted a description of theoretical work that they believe demonstrates that quantum properties can move without any particles at all—like a disembodied grin flitting through the world and influencing its surroundings—in ways that bypass the critical concerns raised in the past.\n",
    "Aharonov and his colleagues first encountered their quantum Cheshire cat several years ago as they were pondering one of the most fundamental principles of quantum mechanics: nothing can be predicted unambiguously. Unlike classical physics, the same quantum mechanical experiment can have different outcomes under exactly the same conditions. It is therefore impossible to predict the exact outcome of a single experiment—only its outcome with a certain probability. “Nobody understands quantum mechanics. It’s so counterintuitive. We know its laws, but we are always surprised,” says Sandu Popescu, a physicist at the University of Bristol in England, who collaborated with Aharonov on the 2013 paper and the new preprint.\n",
    "But Aharonov was not satisfied with this uncertainty. So, since the 1980s, he has been exploring ways to investigate fundamental processes despite the probability-based nature of quantum mechanics. Aharonov—now age 92—employs an approach that involves intensively repeating an experiment, grouping results and then examining what came out before and after the experiment and relating these events to each other. “To do this, you have to understand the flow of time in quantum mechanics,” Popescu explains. “We developed a completely new method to combine information from measurements before and after the experiment.”\n",
    "The researchers have stumbled across several surprises with this method—including their theoretical Cheshire cat. Their idea sounds simple at first: send particles through an optical tool called an interferometer, which causes each particle to move through one of two paths that ultimately merge again at the end. If the setup and measurements were carried out skillfully, Aharonov and his colleagues theorized, it could be shown that the particle traveled a path in the interferometer that differed from the path of its polarization. In other words, they claimed the property of the particle could be measured on one path even though the particle itself took the other—as if the grin and the cat had come apart.\n",
    "Inspired by this theory, a team led by Tobias Denkmayr, then at the Vienna University of Technology, implemented the experiment with neutrons in a study published in 2014. The team showed that the neutral particles inside an interferometer followed a different path from that of their spin, a quantum mechanical property of particles similar to angular momentum: Denkmayr and his colleagues had indeed found evidence of the Cheshire cat theory. Two years later researchers led by Maximilian Schlosshauer of the University of Portland successfully implemented the same experiment with photons. The scientists saw evidence that the light particles took a different path in the interferometer than their polarization did.\n",
    "But not everyone is convinced. “Such a separation makes no sense at all. The location of a particle is itself a property of the particle,” Hofmann says. “It would be more accurate to talk about an unusual correlation between location and polarization.” Last November Hofmann and his colleagues provided an alternative explanation based on widely known quantum mechanical effects.\n",
    "And in another interpretation of the Cheshire cat results, Pablo Saldanha of the Federal University of Minas Gerais in Brazil and his colleagues argue that the findings can be explained with wave-particle duality. “If you take a different view, there are no paradoxes,” Saldanha says, “but all results can be explained with traditional quantum mechanics as simple interference effects.”\n",
    "Much of the controversy surrounds the way in which particles’ properties and positions are detected in these experiments. Disturbing a particle could alter its quantum mechanical properties. For that reason, the photons or neutrons cannot be recorded inside the interferometer using an ordinary detector. Instead scientists must resort to a principle of weak measurement developed by Aharonov in 1988. A weak measurement makes it possible to scan a particle very lightly without destroying its quantum state. This comes at a price, however: the weak measurement result is extremely inaccurate. (Thus, these experiments must be repeated many times over, to compensate for the fact that each individual measurement is highly uncertain.)\n",
    "In the quantum Cheshire cat experiments, a weak measurement is made along a path in the interferometer, the paths then merge, and the emerging particles are measured with an ordinary detector. Along one path of the interferometer, a weak measurement of the particle’s position can be taken and, along the other, its spin. Using detectors, physicists can more definitively characterize the particles that traveled through the interferometer and potentially reconstruct what occurred during the particle’s journey. For example, only certain particles will appear in certain detectors, helping the physicists piece together which path their neutron or photon previously took. According to Aharonov, Popescu and their colleagues, the Cheshire cat experiments ultimately reveal that the particle’s position can be confirmed on one path even as its polarization or spin was measured on the other.\n",
    "Saldanha and his co-authors assert that it is impossible to make claims about quantum systems in the past given their measurements in the present. In other words, the photons and neutrons measured in the final detectors cannot tell us much about their previous trajectory. Instead the wave functions of particles passing through the paths of the interferometer could overlap, which would make it impossible to trace which path a particle had taken. “Ultimately, the paradoxical behaviors are related to the wave-particle duality,” Saldanha says. But in the papers that report evidence of the quantum Cheshire cat, he asserts, the findings “are processed in a sophisticated way that obscures this simpler interpretation.”\n",
    "Hofmann, meanwhile, has stressed that the results will differ if you measure the system in a different way. This phenomenon is well-known in quantum physics: if, for example, you first measure the speed of a particle and then its position, the result can be different than it would be if you first measured the position of the same particle and then its speed. He and his colleagues therefore contend that Aharonov and his team’s conclusions were correct in themselves—that the particle moved along one path and the polarization followed the other—but that such differing paths do not apply simultaneously.\n",
    "As Hofmann’s co-author Jonte Hance, also at Hiroshima University, told New Scientist, “It only looks like [the particle and polarization are] separated because you’re measuring one of the properties in one place and the other property in the other place, but that doesn’t mean that the properties are in one place and the other place, that means that the actual measuring itself is affecting it in such a way that it looks like it’s in one place and the other place.”\n",
    "But these critiques are “missing the point,” Popescu says. He agrees that the work and reasoning put forward by Saldanha and Hofmann’s respective groups are correct—but adds that the best way to test any interpretation is to generate testable predictions from each. “As I understand it, there is no direct way to make predictions based on them,” Popescu says in reference to these alternative explanations. “They kind of have a very old-fashioned way of looking at things: there are contradictions, so you stop doing the math.”\n",
    "With their recent preprint paper, Aharonov and Popescu, together with physicist Daniel Collins of the University of Bristol, have now described how a particle’s spin can move completely independently of the particle itself—without employing a weak measurement. In their new experimental setup, a particle is located in the left half of an elongated two-part cylinder that is sealed at the outer edges. Because of a highly reflective wall in the middle, the particle has a vanishingly small probability of tunneling through to the right-hand side of the cylinder. In their paper, the researchers provide a proof that even if the particle remains in the left-hand area in almost all cases, it should still be possible to measure a transfer of the particle’s spin at the right-hand outer wall. “It’s amazing, isn’t it?” Collins says. “You think the particle has a spin and the spin should stay with the particle. But the spin crosses the box without the particle.”\n",
    "This approach would address several of the critical concerns raised thus far. The physicists don't need weak measurements. Nor do they need to group their experimental results to draw temporal conclusions. (That being said, grouping results would still improve the measurements, given that the angular momentum of the wall itself cannot be determined unambiguously because of the Heisenberg uncertainty principle.) But in this scenario, the only physical principles involved are conservation laws, such as the conservation of energy or the conservation of momentum and angular momentum. Popescu and Collins explain that they hope other groups will implement the experiment to observe the effects in the laboratory.\n",
    "The new work has piqued Hofmann’s interest. “The scenario is exciting because the interaction between polarization and particle motion produces a particularly strong quantum effect that clearly contradicts the particle picture,” he says.\n",
    "But he still does not see this as proof of disembodied (particle-free) spin transfer. “For me, this means, above all, that it is wrong to assume a measurement-independent reality,” Hofmann says. Instead quantum mechanics allows a particle’s residence to extend to the right-hand region of the cylinder, even if a residence in the left-hand region seems logically compelling. “I think it is quite clear to Aharonov, Collins and Popescu that the space in front of the wall is not really empty,” he adds.\n",
    "Saldanha, meanwhile, still sees the researchers as overcomplicating what could be explained as traditional quantum interference effects. When discussing the particle’s very low probability of entering the right-hand side of the experimental setup, he explains, “we have to be careful about a ‘vanishingly small probability’ when we refer to waves.” The wave function of the particle could also expand into the right-hand side of the setup and thus influence the angular momentum of the wall. “The same predictions can be made without such dramatic conclusions,” he says.\n",
    "In response to these critiques, Popescu says, “This is of course another way of thinking about it. The question is whether this interpretation is useful.” Regardless of which interpretation of the events is correct, the quantum Cheshire cat could enable new technological applications. For example, it could be used to transfer information or energy without moving a physical particle—whether made of matter or light.\n",
    "For Popescu, however, the fundamental questions of physics play a more important role. “It all started when we thought about how time propagates in quantum mechanics,” he says. “And suddenly we were able to discover something fundamental about the laws of conservation.”\n",
    "'''"
   ]
  },
  {
   "cell_type": "code",
   "execution_count": 55,
   "id": "0edd49a4-4d65-48d9-80ac-f335e7ee086e",
   "metadata": {},
   "outputs": [
    {
     "name": "stdout",
     "output_type": "stream",
     "text": [
      "Quantile Significance Lower = 3\n",
      "Quantile Significance Upper = 58\n",
      "As Hofmann’s co-author Jonte Hance, also at Hiroshima University, told New Scientist, “It only looks like [the particle and polarization are] separated because you’re measuring one of the properties in one place and the other property in the other place, but that doesn’t mean that the properties are in one place and the other place, that means that the actual measuring itself is affecting it in such a way that it looks like it’s in one place and the other place.” But these critiques are “missing the point,” Popescu says. \u001b[31m[44.4737]\u001b[0m This phenomenon is well-known in quantum physics: if, for example, you first measure the speed of a particle and then its position, the result can be different than it would be if you first measured the position of the same particle and then its speed. \u001b[31m[27.2222]\u001b[0m According to Aharonov, Popescu and their colleagues, the Cheshire cat experiments ultimately reveal that the particle’s position can be confirmed on one path even as its polarization or spin was measured on the other. \u001b[31m[24.7353]\u001b[0m He and his colleagues therefore contend that Aharonov and his team’s conclusions were correct in themselves—that the particle moved along one path and the polarization followed the other—but that such differing paths do not apply simultaneously. \u001b[31m[21.1892]\u001b[0m\n"
     ]
    }
   ],
   "source": [
    "luhn_rtn_exp8 = la.luhn_abstract.run_auto_summarization(val_text=val_text,\n",
    "                                                        is_sw_remove=False,\n",
    "                                                        is_sw_zero=False,\n",
    "                                                        is_use_luhn_tf=True,\n",
    "                                                        vec_sw_luhn=[],\n",
    "                                                        vec_sw_add=[],\n",
    "                                                        func_stem_selected=None,\n",
    "                                                        func_summary_selected=None,\n",
    "                                                        is_print=True)"
   ]
  },
  {
   "cell_type": "markdown",
   "id": "3f6ee875-3665-4d41-8473-27c9b59c4486",
   "metadata": {},
   "source": [
    "## Potential Issues...\n",
    "\n",
    "- Parsing Wikipedia with NLTK results in sentences that are sometimes more than one independent clause/sentence.\n",
    "- Reproducing the results from the paper is complicated by the fact that exact values for *C* and *D* are not documented."
   ]
  },
  {
   "cell_type": "code",
   "execution_count": null,
   "id": "dca45eea-515d-4746-9c17-87f3b66cbcb5",
   "metadata": {},
   "outputs": [],
   "source": []
  }
 ],
 "metadata": {
  "kernelspec": {
   "display_name": "Python 3 (ipykernel)",
   "language": "python",
   "name": "python3"
  },
  "language_info": {
   "codemirror_mode": {
    "name": "ipython",
    "version": 3
   },
   "file_extension": ".py",
   "mimetype": "text/x-python",
   "name": "python",
   "nbconvert_exporter": "python",
   "pygments_lexer": "ipython3",
   "version": "3.11.8"
  }
 },
 "nbformat": 4,
 "nbformat_minor": 5
}
